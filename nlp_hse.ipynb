{
  "nbformat": 4,
  "nbformat_minor": 0,
  "metadata": {
    "colab": {
      "provenance": [],
      "toc_visible": true
    },
    "kernelspec": {
      "name": "python3",
      "display_name": "Python 3"
    },
    "language_info": {
      "name": "python"
    },
    "gpuClass": "standard"
  },
  "cells": [
    {
      "cell_type": "markdown",
      "source": [
        "# NLP_HSE"
      ],
      "metadata": {
        "id": "HVrtAPkZ4CsM"
      }
    },
    {
      "cell_type": "markdown",
      "source": [
        "## Импорты"
      ],
      "metadata": {
        "id": "uTjuZmi55RSO"
      }
    },
    {
      "cell_type": "code",
      "execution_count": 2,
      "metadata": {
        "colab": {
          "base_uri": "https://localhost:8080/"
        },
        "id": "HSiWUZt84B77",
        "outputId": "4818eec2-890a-402d-ef35-141a55d8b62f"
      },
      "outputs": [
        {
          "output_type": "stream",
          "name": "stdout",
          "text": [
            "Looking in indexes: https://pypi.org/simple, https://us-python.pkg.dev/colab-wheels/public/simple/\n",
            "Collecting pymorphy2\n",
            "  Downloading pymorphy2-0.9.1-py3-none-any.whl (55 kB)\n",
            "\u001b[K     |████████████████████████████████| 55 kB 3.8 MB/s \n",
            "\u001b[?25hCollecting pymorphy2-dicts-ru<3.0,>=2.4\n",
            "  Downloading pymorphy2_dicts_ru-2.4.417127.4579844-py2.py3-none-any.whl (8.2 MB)\n",
            "\u001b[K     |████████████████████████████████| 8.2 MB 29.4 MB/s \n",
            "\u001b[?25hCollecting docopt>=0.6\n",
            "  Downloading docopt-0.6.2.tar.gz (25 kB)\n",
            "Collecting dawg-python>=0.7.1\n",
            "  Downloading DAWG_Python-0.7.2-py2.py3-none-any.whl (11 kB)\n",
            "Building wheels for collected packages: docopt\n",
            "  Building wheel for docopt (setup.py) ... \u001b[?25l\u001b[?25hdone\n",
            "  Created wheel for docopt: filename=docopt-0.6.2-py2.py3-none-any.whl size=13723 sha256=713d6361d2adbe698eb5eb979fc437243bcebc90b4a74d976320d996f10af51d\n",
            "  Stored in directory: /root/.cache/pip/wheels/56/ea/58/ead137b087d9e326852a851351d1debf4ada529b6ac0ec4e8c\n",
            "Successfully built docopt\n",
            "Installing collected packages: pymorphy2-dicts-ru, docopt, dawg-python, pymorphy2\n",
            "Successfully installed dawg-python-0.7.2 docopt-0.6.2 pymorphy2-0.9.1 pymorphy2-dicts-ru-2.4.417127.4579844\n"
          ]
        },
        {
          "output_type": "stream",
          "name": "stderr",
          "text": [
            "[nltk_data] Downloading package stopwords to /root/nltk_data...\n",
            "[nltk_data]   Unzipping corpora/stopwords.zip.\n"
          ]
        },
        {
          "output_type": "execute_result",
          "data": {
            "text/plain": [
              "True"
            ]
          },
          "metadata": {},
          "execution_count": 2
        }
      ],
      "source": [
        "import pandas as pd\n",
        "from sklearn.model_selection import train_test_split\n",
        "\n",
        "import re\n",
        "!pip install pymorphy2\n",
        "from pymorphy2 import MorphAnalyzer\n",
        "from functools import lru_cache\n",
        "from nltk.corpus import stopwords\n",
        "\n",
        "from multiprocessing import Pool\n",
        "from tqdm import tqdm\n",
        "\n",
        "import nltk\n",
        "nltk.download('stopwords')"
      ]
    },
    {
      "cell_type": "code",
      "source": [
        "#%tensorflow_version 2.x\n",
        "from tensorflow.keras.models import Sequential\n",
        "from tensorflow.keras.layers import Dense, Embedding, MaxPooling1D, Conv1D, GlobalMaxPooling1D, Dropout, LSTM, GRU\n",
        "from tensorflow.keras import utils\n",
        "from tensorflow.keras.preprocessing.sequence import pad_sequences\n",
        "from tensorflow.keras.preprocessing.text import Tokenizer\n",
        "from tensorflow.keras.callbacks import ModelCheckpoint\n",
        "from tensorflow.keras import utils\n",
        "import pandas as pd\n",
        "import numpy as np\n",
        "import matplotlib.pyplot as plt\n",
        "%matplotlib inline "
      ],
      "metadata": {
        "id": "yI6NJfYoGk0Y"
      },
      "execution_count": null,
      "outputs": []
    },
    {
      "cell_type": "code",
      "source": [
        "from keras import backend as K\n"
      ],
      "metadata": {
        "id": "AkyFJP5oGxjX"
      },
      "execution_count": null,
      "outputs": []
    },
    {
      "cell_type": "code",
      "source": [
        "from google.colab import drive\n",
        "drive.mount('/content/drive')"
      ],
      "metadata": {
        "colab": {
          "base_uri": "https://localhost:8080/"
        },
        "id": "0hZLWrSQ8NK-",
        "outputId": "f187bc49-42b6-4293-9fdb-7b447fb44784"
      },
      "execution_count": 3,
      "outputs": [
        {
          "output_type": "stream",
          "name": "stdout",
          "text": [
            "Mounted at /content/drive\n"
          ]
        }
      ]
    },
    {
      "cell_type": "markdown",
      "source": [
        "## Загрузка данных и предпросмотр"
      ],
      "metadata": {
        "id": "gxru-UgJ5V5t"
      }
    },
    {
      "cell_type": "code",
      "source": [
        "train = pd.read_csv(\"/content/drive/My Drive/nlp_hse/train_dl.csv\")"
      ],
      "metadata": {
        "id": "O2dNGbgi5iAM"
      },
      "execution_count": 3,
      "outputs": []
    },
    {
      "cell_type": "code",
      "source": [
        "test = pd.read_csv(\"/content/drive/My Drive/nlp_hse/new_test_dl.csv\")"
      ],
      "metadata": {
        "id": "ELWDdG_l9Jpa"
      },
      "execution_count": 4,
      "outputs": []
    },
    {
      "cell_type": "code",
      "source": [
        "train.head()"
      ],
      "metadata": {
        "colab": {
          "base_uri": "https://localhost:8080/",
          "height": 206
        },
        "id": "g6hs2qTQ9eqD",
        "outputId": "a3eeabbe-caa9-47ac-f1f3-728624890dd7"
      },
      "execution_count": 5,
      "outputs": [
        {
          "output_type": "execute_result",
          "data": {
            "text/plain": [
              "            bank                                              feeds  grades  \\\n",
              "0  unicreditbank  Я очень редко пользуюсь банковскими продуктами...     5.0   \n",
              "1    fk_otkritie  Я вместе с женой 15.11.2019 обратился в отделе...     1.0   \n",
              "2       alfabank  Добрый день.Сегодня 27.12.2018 г около 15.40-1...     1.0   \n",
              "3            vtb  \"Где карточку открывали, туда и идите...\" - эт...     2.0   \n",
              "4  promsvyazbank  При покупках в iTunes списываются завышенные с...     NaN   \n",
              "\n",
              "               date  \n",
              "0  31.12.2017 18:20  \n",
              "1  22.11.2019 22:42  \n",
              "2  27.12.2018 23:20  \n",
              "3  05.02.2020 16:40  \n",
              "4  26.02.2016 15:48  "
            ],
            "text/html": [
              "\n",
              "  <div id=\"df-5c26683f-cc31-4109-9d41-959692b6ed10\">\n",
              "    <div class=\"colab-df-container\">\n",
              "      <div>\n",
              "<style scoped>\n",
              "    .dataframe tbody tr th:only-of-type {\n",
              "        vertical-align: middle;\n",
              "    }\n",
              "\n",
              "    .dataframe tbody tr th {\n",
              "        vertical-align: top;\n",
              "    }\n",
              "\n",
              "    .dataframe thead th {\n",
              "        text-align: right;\n",
              "    }\n",
              "</style>\n",
              "<table border=\"1\" class=\"dataframe\">\n",
              "  <thead>\n",
              "    <tr style=\"text-align: right;\">\n",
              "      <th></th>\n",
              "      <th>bank</th>\n",
              "      <th>feeds</th>\n",
              "      <th>grades</th>\n",
              "      <th>date</th>\n",
              "    </tr>\n",
              "  </thead>\n",
              "  <tbody>\n",
              "    <tr>\n",
              "      <th>0</th>\n",
              "      <td>unicreditbank</td>\n",
              "      <td>Я очень редко пользуюсь банковскими продуктами...</td>\n",
              "      <td>5.0</td>\n",
              "      <td>31.12.2017 18:20</td>\n",
              "    </tr>\n",
              "    <tr>\n",
              "      <th>1</th>\n",
              "      <td>fk_otkritie</td>\n",
              "      <td>Я вместе с женой 15.11.2019 обратился в отделе...</td>\n",
              "      <td>1.0</td>\n",
              "      <td>22.11.2019 22:42</td>\n",
              "    </tr>\n",
              "    <tr>\n",
              "      <th>2</th>\n",
              "      <td>alfabank</td>\n",
              "      <td>Добрый день.Сегодня 27.12.2018 г около 15.40-1...</td>\n",
              "      <td>1.0</td>\n",
              "      <td>27.12.2018 23:20</td>\n",
              "    </tr>\n",
              "    <tr>\n",
              "      <th>3</th>\n",
              "      <td>vtb</td>\n",
              "      <td>\"Где карточку открывали, туда и идите...\" - эт...</td>\n",
              "      <td>2.0</td>\n",
              "      <td>05.02.2020 16:40</td>\n",
              "    </tr>\n",
              "    <tr>\n",
              "      <th>4</th>\n",
              "      <td>promsvyazbank</td>\n",
              "      <td>При покупках в iTunes списываются завышенные с...</td>\n",
              "      <td>NaN</td>\n",
              "      <td>26.02.2016 15:48</td>\n",
              "    </tr>\n",
              "  </tbody>\n",
              "</table>\n",
              "</div>\n",
              "      <button class=\"colab-df-convert\" onclick=\"convertToInteractive('df-5c26683f-cc31-4109-9d41-959692b6ed10')\"\n",
              "              title=\"Convert this dataframe to an interactive table.\"\n",
              "              style=\"display:none;\">\n",
              "        \n",
              "  <svg xmlns=\"http://www.w3.org/2000/svg\" height=\"24px\"viewBox=\"0 0 24 24\"\n",
              "       width=\"24px\">\n",
              "    <path d=\"M0 0h24v24H0V0z\" fill=\"none\"/>\n",
              "    <path d=\"M18.56 5.44l.94 2.06.94-2.06 2.06-.94-2.06-.94-.94-2.06-.94 2.06-2.06.94zm-11 1L8.5 8.5l.94-2.06 2.06-.94-2.06-.94L8.5 2.5l-.94 2.06-2.06.94zm10 10l.94 2.06.94-2.06 2.06-.94-2.06-.94-.94-2.06-.94 2.06-2.06.94z\"/><path d=\"M17.41 7.96l-1.37-1.37c-.4-.4-.92-.59-1.43-.59-.52 0-1.04.2-1.43.59L10.3 9.45l-7.72 7.72c-.78.78-.78 2.05 0 2.83L4 21.41c.39.39.9.59 1.41.59.51 0 1.02-.2 1.41-.59l7.78-7.78 2.81-2.81c.8-.78.8-2.07 0-2.86zM5.41 20L4 18.59l7.72-7.72 1.47 1.35L5.41 20z\"/>\n",
              "  </svg>\n",
              "      </button>\n",
              "      \n",
              "  <style>\n",
              "    .colab-df-container {\n",
              "      display:flex;\n",
              "      flex-wrap:wrap;\n",
              "      gap: 12px;\n",
              "    }\n",
              "\n",
              "    .colab-df-convert {\n",
              "      background-color: #E8F0FE;\n",
              "      border: none;\n",
              "      border-radius: 50%;\n",
              "      cursor: pointer;\n",
              "      display: none;\n",
              "      fill: #1967D2;\n",
              "      height: 32px;\n",
              "      padding: 0 0 0 0;\n",
              "      width: 32px;\n",
              "    }\n",
              "\n",
              "    .colab-df-convert:hover {\n",
              "      background-color: #E2EBFA;\n",
              "      box-shadow: 0px 1px 2px rgba(60, 64, 67, 0.3), 0px 1px 3px 1px rgba(60, 64, 67, 0.15);\n",
              "      fill: #174EA6;\n",
              "    }\n",
              "\n",
              "    [theme=dark] .colab-df-convert {\n",
              "      background-color: #3B4455;\n",
              "      fill: #D2E3FC;\n",
              "    }\n",
              "\n",
              "    [theme=dark] .colab-df-convert:hover {\n",
              "      background-color: #434B5C;\n",
              "      box-shadow: 0px 1px 3px 1px rgba(0, 0, 0, 0.15);\n",
              "      filter: drop-shadow(0px 1px 2px rgba(0, 0, 0, 0.3));\n",
              "      fill: #FFFFFF;\n",
              "    }\n",
              "  </style>\n",
              "\n",
              "      <script>\n",
              "        const buttonEl =\n",
              "          document.querySelector('#df-5c26683f-cc31-4109-9d41-959692b6ed10 button.colab-df-convert');\n",
              "        buttonEl.style.display =\n",
              "          google.colab.kernel.accessAllowed ? 'block' : 'none';\n",
              "\n",
              "        async function convertToInteractive(key) {\n",
              "          const element = document.querySelector('#df-5c26683f-cc31-4109-9d41-959692b6ed10');\n",
              "          const dataTable =\n",
              "            await google.colab.kernel.invokeFunction('convertToInteractive',\n",
              "                                                     [key], {});\n",
              "          if (!dataTable) return;\n",
              "\n",
              "          const docLinkHtml = 'Like what you see? Visit the ' +\n",
              "            '<a target=\"_blank\" href=https://colab.research.google.com/notebooks/data_table.ipynb>data table notebook</a>'\n",
              "            + ' to learn more about interactive tables.';\n",
              "          element.innerHTML = '';\n",
              "          dataTable['output_type'] = 'display_data';\n",
              "          await google.colab.output.renderOutput(dataTable, element);\n",
              "          const docLink = document.createElement('div');\n",
              "          docLink.innerHTML = docLinkHtml;\n",
              "          element.appendChild(docLink);\n",
              "        }\n",
              "      </script>\n",
              "    </div>\n",
              "  </div>\n",
              "  "
            ]
          },
          "metadata": {},
          "execution_count": 5
        }
      ]
    },
    {
      "cell_type": "code",
      "source": [
        "train.info()"
      ],
      "metadata": {
        "colab": {
          "base_uri": "https://localhost:8080/"
        },
        "id": "vrmqLD1m9qhD",
        "outputId": "796836c6-74a9-4210-89d0-4d82f3ac363b"
      },
      "execution_count": null,
      "outputs": [
        {
          "output_type": "stream",
          "name": "stdout",
          "text": [
            "<class 'pandas.core.frame.DataFrame'>\n",
            "RangeIndex: 350000 entries, 0 to 349999\n",
            "Data columns (total 4 columns):\n",
            " #   Column  Non-Null Count   Dtype  \n",
            "---  ------  --------------   -----  \n",
            " 0   bank    350000 non-null  object \n",
            " 1   feeds   350000 non-null  object \n",
            " 2   grades  240250 non-null  float64\n",
            " 3   date    350000 non-null  object \n",
            "dtypes: float64(1), object(3)\n",
            "memory usage: 10.7+ MB\n"
          ]
        }
      ]
    },
    {
      "cell_type": "code",
      "source": [
        "train['grades'].value_counts()"
      ],
      "metadata": {
        "colab": {
          "base_uri": "https://localhost:8080/"
        },
        "id": "qYcPOr9M9y9A",
        "outputId": "855c11e3-5edb-42a2-9bbd-3eea0dbcf5b9"
      },
      "execution_count": 6,
      "outputs": [
        {
          "output_type": "execute_result",
          "data": {
            "text/plain": [
              "1.0    129814\n",
              "5.0     66408\n",
              "2.0     25803\n",
              "3.0     11131\n",
              "4.0      7094\n",
              "Name: grades, dtype: int64"
            ]
          },
          "metadata": {},
          "execution_count": 6
        }
      ]
    },
    {
      "cell_type": "code",
      "source": [
        "test.head()"
      ],
      "metadata": {
        "colab": {
          "base_uri": "https://localhost:8080/",
          "height": 206
        },
        "id": "6D9X5Gne9jhG",
        "outputId": "60c7867f-7c9a-42dc-a213-01a62df4cd99"
      },
      "execution_count": null,
      "outputs": [
        {
          "output_type": "execute_result",
          "data": {
            "text/plain": [
              "   Unnamed: 0        bank                                              feeds  \\\n",
              "0           0    sberbank  История такова: 27.01.2015 мне на телефон приш...   \n",
              "1           1    alfabank  Нельзя решить ни один вопрос оперативно, автоо...   \n",
              "2           2         tcs  Быстро, удобно, чего ещё нужно то. На сайтике ...   \n",
              "3           3  pochtabank  Добрый день! Просто в шоке от  ПАО «Почта Банк...   \n",
              "4           4    sberbank  В течение выходных дней новогоднего периода 20...   \n",
              "\n",
              "               date  \n",
              "0  05.02.2015 17:33  \n",
              "1   03.03.2021 9:27  \n",
              "2   09.04.2018 7:40  \n",
              "3   09.04.2020 9:57  \n",
              "4  12.01.2012 14:00  "
            ],
            "text/html": [
              "\n",
              "  <div id=\"df-dbe4fb88-16f4-47a3-af7e-92aa4da81f44\">\n",
              "    <div class=\"colab-df-container\">\n",
              "      <div>\n",
              "<style scoped>\n",
              "    .dataframe tbody tr th:only-of-type {\n",
              "        vertical-align: middle;\n",
              "    }\n",
              "\n",
              "    .dataframe tbody tr th {\n",
              "        vertical-align: top;\n",
              "    }\n",
              "\n",
              "    .dataframe thead th {\n",
              "        text-align: right;\n",
              "    }\n",
              "</style>\n",
              "<table border=\"1\" class=\"dataframe\">\n",
              "  <thead>\n",
              "    <tr style=\"text-align: right;\">\n",
              "      <th></th>\n",
              "      <th>Unnamed: 0</th>\n",
              "      <th>bank</th>\n",
              "      <th>feeds</th>\n",
              "      <th>date</th>\n",
              "    </tr>\n",
              "  </thead>\n",
              "  <tbody>\n",
              "    <tr>\n",
              "      <th>0</th>\n",
              "      <td>0</td>\n",
              "      <td>sberbank</td>\n",
              "      <td>История такова: 27.01.2015 мне на телефон приш...</td>\n",
              "      <td>05.02.2015 17:33</td>\n",
              "    </tr>\n",
              "    <tr>\n",
              "      <th>1</th>\n",
              "      <td>1</td>\n",
              "      <td>alfabank</td>\n",
              "      <td>Нельзя решить ни один вопрос оперативно, автоо...</td>\n",
              "      <td>03.03.2021 9:27</td>\n",
              "    </tr>\n",
              "    <tr>\n",
              "      <th>2</th>\n",
              "      <td>2</td>\n",
              "      <td>tcs</td>\n",
              "      <td>Быстро, удобно, чего ещё нужно то. На сайтике ...</td>\n",
              "      <td>09.04.2018 7:40</td>\n",
              "    </tr>\n",
              "    <tr>\n",
              "      <th>3</th>\n",
              "      <td>3</td>\n",
              "      <td>pochtabank</td>\n",
              "      <td>Добрый день! Просто в шоке от  ПАО «Почта Банк...</td>\n",
              "      <td>09.04.2020 9:57</td>\n",
              "    </tr>\n",
              "    <tr>\n",
              "      <th>4</th>\n",
              "      <td>4</td>\n",
              "      <td>sberbank</td>\n",
              "      <td>В течение выходных дней новогоднего периода 20...</td>\n",
              "      <td>12.01.2012 14:00</td>\n",
              "    </tr>\n",
              "  </tbody>\n",
              "</table>\n",
              "</div>\n",
              "      <button class=\"colab-df-convert\" onclick=\"convertToInteractive('df-dbe4fb88-16f4-47a3-af7e-92aa4da81f44')\"\n",
              "              title=\"Convert this dataframe to an interactive table.\"\n",
              "              style=\"display:none;\">\n",
              "        \n",
              "  <svg xmlns=\"http://www.w3.org/2000/svg\" height=\"24px\"viewBox=\"0 0 24 24\"\n",
              "       width=\"24px\">\n",
              "    <path d=\"M0 0h24v24H0V0z\" fill=\"none\"/>\n",
              "    <path d=\"M18.56 5.44l.94 2.06.94-2.06 2.06-.94-2.06-.94-.94-2.06-.94 2.06-2.06.94zm-11 1L8.5 8.5l.94-2.06 2.06-.94-2.06-.94L8.5 2.5l-.94 2.06-2.06.94zm10 10l.94 2.06.94-2.06 2.06-.94-2.06-.94-.94-2.06-.94 2.06-2.06.94z\"/><path d=\"M17.41 7.96l-1.37-1.37c-.4-.4-.92-.59-1.43-.59-.52 0-1.04.2-1.43.59L10.3 9.45l-7.72 7.72c-.78.78-.78 2.05 0 2.83L4 21.41c.39.39.9.59 1.41.59.51 0 1.02-.2 1.41-.59l7.78-7.78 2.81-2.81c.8-.78.8-2.07 0-2.86zM5.41 20L4 18.59l7.72-7.72 1.47 1.35L5.41 20z\"/>\n",
              "  </svg>\n",
              "      </button>\n",
              "      \n",
              "  <style>\n",
              "    .colab-df-container {\n",
              "      display:flex;\n",
              "      flex-wrap:wrap;\n",
              "      gap: 12px;\n",
              "    }\n",
              "\n",
              "    .colab-df-convert {\n",
              "      background-color: #E8F0FE;\n",
              "      border: none;\n",
              "      border-radius: 50%;\n",
              "      cursor: pointer;\n",
              "      display: none;\n",
              "      fill: #1967D2;\n",
              "      height: 32px;\n",
              "      padding: 0 0 0 0;\n",
              "      width: 32px;\n",
              "    }\n",
              "\n",
              "    .colab-df-convert:hover {\n",
              "      background-color: #E2EBFA;\n",
              "      box-shadow: 0px 1px 2px rgba(60, 64, 67, 0.3), 0px 1px 3px 1px rgba(60, 64, 67, 0.15);\n",
              "      fill: #174EA6;\n",
              "    }\n",
              "\n",
              "    [theme=dark] .colab-df-convert {\n",
              "      background-color: #3B4455;\n",
              "      fill: #D2E3FC;\n",
              "    }\n",
              "\n",
              "    [theme=dark] .colab-df-convert:hover {\n",
              "      background-color: #434B5C;\n",
              "      box-shadow: 0px 1px 3px 1px rgba(0, 0, 0, 0.15);\n",
              "      filter: drop-shadow(0px 1px 2px rgba(0, 0, 0, 0.3));\n",
              "      fill: #FFFFFF;\n",
              "    }\n",
              "  </style>\n",
              "\n",
              "      <script>\n",
              "        const buttonEl =\n",
              "          document.querySelector('#df-dbe4fb88-16f4-47a3-af7e-92aa4da81f44 button.colab-df-convert');\n",
              "        buttonEl.style.display =\n",
              "          google.colab.kernel.accessAllowed ? 'block' : 'none';\n",
              "\n",
              "        async function convertToInteractive(key) {\n",
              "          const element = document.querySelector('#df-dbe4fb88-16f4-47a3-af7e-92aa4da81f44');\n",
              "          const dataTable =\n",
              "            await google.colab.kernel.invokeFunction('convertToInteractive',\n",
              "                                                     [key], {});\n",
              "          if (!dataTable) return;\n",
              "\n",
              "          const docLinkHtml = 'Like what you see? Visit the ' +\n",
              "            '<a target=\"_blank\" href=https://colab.research.google.com/notebooks/data_table.ipynb>data table notebook</a>'\n",
              "            + ' to learn more about interactive tables.';\n",
              "          element.innerHTML = '';\n",
              "          dataTable['output_type'] = 'display_data';\n",
              "          await google.colab.output.renderOutput(dataTable, element);\n",
              "          const docLink = document.createElement('div');\n",
              "          docLink.innerHTML = docLinkHtml;\n",
              "          element.appendChild(docLink);\n",
              "        }\n",
              "      </script>\n",
              "    </div>\n",
              "  </div>\n",
              "  "
            ]
          },
          "metadata": {},
          "execution_count": 8
        }
      ]
    },
    {
      "cell_type": "code",
      "source": [
        "test.info()"
      ],
      "metadata": {
        "colab": {
          "base_uri": "https://localhost:8080/"
        },
        "id": "VcDnY-8m97Qd",
        "outputId": "b6ea3557-fff5-409d-d5ce-f3f7017050e8"
      },
      "execution_count": null,
      "outputs": [
        {
          "output_type": "stream",
          "name": "stdout",
          "text": [
            "<class 'pandas.core.frame.DataFrame'>\n",
            "RangeIndex: 34114 entries, 0 to 34113\n",
            "Data columns (total 4 columns):\n",
            " #   Column      Non-Null Count  Dtype \n",
            "---  ------      --------------  ----- \n",
            " 0   Unnamed: 0  34114 non-null  int64 \n",
            " 1   bank        34114 non-null  object\n",
            " 2   feeds       34114 non-null  object\n",
            " 3   date        34114 non-null  object\n",
            "dtypes: int64(1), object(3)\n",
            "memory usage: 1.0+ MB\n"
          ]
        }
      ]
    },
    {
      "cell_type": "markdown",
      "source": [
        "## EDA"
      ],
      "metadata": {
        "id": "w-RbxXAGOU54"
      }
    },
    {
      "cell_type": "markdown",
      "source": [
        "### Пропуски"
      ],
      "metadata": {
        "id": "xEiBKoPAOX8n"
      }
    },
    {
      "cell_type": "code",
      "source": [
        "train.query('grades!=grades')"
      ],
      "metadata": {
        "colab": {
          "base_uri": "https://localhost:8080/",
          "height": 424
        },
        "id": "2wU0F8PmOZO6",
        "outputId": "147c8e04-8b04-42d3-a37e-ffb58a23168d"
      },
      "execution_count": 7,
      "outputs": [
        {
          "output_type": "execute_result",
          "data": {
            "text/plain": [
              "                  bank                                              feeds  \\\n",
              "4        promsvyazbank  При покупках в iTunes списываются завышенные с...   \n",
              "6              otpbank  06.06.2016 по платежному поручению №916 через ...   \n",
              "7       homecreditbank  Всем доброго времени суток! С банком в принцип...   \n",
              "20             otpbank  Имея кредитную карту в ОТП банке, ушла в декре...   \n",
              "23            alfabank  Здравствуйте! После нескольких переводов, на с...   \n",
              "...                ...                                                ...   \n",
              "349990             mkb  Решили мы с женой взять потребительский кредит...   \n",
              "349991      raiffeisen  Так как сам в возникшем вопросе разобрался, то...   \n",
              "349993        qiwibank  Заблокировали кошелёк 07.11.2019. на кошельке ...   \n",
              "349998             tcs  Просрочил платеж на 5 дней, а мне уже взыскани...   \n",
              "349999     fk_otkritie  В связи с тем, что у меня кредит официально об...   \n",
              "\n",
              "        grades              date  \n",
              "4          NaN  26.02.2016 15:48  \n",
              "6          NaN  16.09.2016 10:55  \n",
              "7          NaN  15.03.2017 22:12  \n",
              "20         NaN  19.07.2017 16:19  \n",
              "23         NaN   19.02.2019 8:33  \n",
              "...        ...               ...  \n",
              "349990     NaN  27.03.2018 10:50  \n",
              "349991     NaN  07.04.2009 18:25  \n",
              "349993     NaN   08.11.2019 7:31  \n",
              "349998     NaN  24.11.2020 23:39  \n",
              "349999     NaN  04.10.2016 13:21  \n",
              "\n",
              "[109750 rows x 4 columns]"
            ],
            "text/html": [
              "\n",
              "  <div id=\"df-ddbe259f-0fca-48b7-af32-d75f36bdb053\">\n",
              "    <div class=\"colab-df-container\">\n",
              "      <div>\n",
              "<style scoped>\n",
              "    .dataframe tbody tr th:only-of-type {\n",
              "        vertical-align: middle;\n",
              "    }\n",
              "\n",
              "    .dataframe tbody tr th {\n",
              "        vertical-align: top;\n",
              "    }\n",
              "\n",
              "    .dataframe thead th {\n",
              "        text-align: right;\n",
              "    }\n",
              "</style>\n",
              "<table border=\"1\" class=\"dataframe\">\n",
              "  <thead>\n",
              "    <tr style=\"text-align: right;\">\n",
              "      <th></th>\n",
              "      <th>bank</th>\n",
              "      <th>feeds</th>\n",
              "      <th>grades</th>\n",
              "      <th>date</th>\n",
              "    </tr>\n",
              "  </thead>\n",
              "  <tbody>\n",
              "    <tr>\n",
              "      <th>4</th>\n",
              "      <td>promsvyazbank</td>\n",
              "      <td>При покупках в iTunes списываются завышенные с...</td>\n",
              "      <td>NaN</td>\n",
              "      <td>26.02.2016 15:48</td>\n",
              "    </tr>\n",
              "    <tr>\n",
              "      <th>6</th>\n",
              "      <td>otpbank</td>\n",
              "      <td>06.06.2016 по платежному поручению №916 через ...</td>\n",
              "      <td>NaN</td>\n",
              "      <td>16.09.2016 10:55</td>\n",
              "    </tr>\n",
              "    <tr>\n",
              "      <th>7</th>\n",
              "      <td>homecreditbank</td>\n",
              "      <td>Всем доброго времени суток! С банком в принцип...</td>\n",
              "      <td>NaN</td>\n",
              "      <td>15.03.2017 22:12</td>\n",
              "    </tr>\n",
              "    <tr>\n",
              "      <th>20</th>\n",
              "      <td>otpbank</td>\n",
              "      <td>Имея кредитную карту в ОТП банке, ушла в декре...</td>\n",
              "      <td>NaN</td>\n",
              "      <td>19.07.2017 16:19</td>\n",
              "    </tr>\n",
              "    <tr>\n",
              "      <th>23</th>\n",
              "      <td>alfabank</td>\n",
              "      <td>Здравствуйте! После нескольких переводов, на с...</td>\n",
              "      <td>NaN</td>\n",
              "      <td>19.02.2019 8:33</td>\n",
              "    </tr>\n",
              "    <tr>\n",
              "      <th>...</th>\n",
              "      <td>...</td>\n",
              "      <td>...</td>\n",
              "      <td>...</td>\n",
              "      <td>...</td>\n",
              "    </tr>\n",
              "    <tr>\n",
              "      <th>349990</th>\n",
              "      <td>mkb</td>\n",
              "      <td>Решили мы с женой взять потребительский кредит...</td>\n",
              "      <td>NaN</td>\n",
              "      <td>27.03.2018 10:50</td>\n",
              "    </tr>\n",
              "    <tr>\n",
              "      <th>349991</th>\n",
              "      <td>raiffeisen</td>\n",
              "      <td>Так как сам в возникшем вопросе разобрался, то...</td>\n",
              "      <td>NaN</td>\n",
              "      <td>07.04.2009 18:25</td>\n",
              "    </tr>\n",
              "    <tr>\n",
              "      <th>349993</th>\n",
              "      <td>qiwibank</td>\n",
              "      <td>Заблокировали кошелёк 07.11.2019. на кошельке ...</td>\n",
              "      <td>NaN</td>\n",
              "      <td>08.11.2019 7:31</td>\n",
              "    </tr>\n",
              "    <tr>\n",
              "      <th>349998</th>\n",
              "      <td>tcs</td>\n",
              "      <td>Просрочил платеж на 5 дней, а мне уже взыскани...</td>\n",
              "      <td>NaN</td>\n",
              "      <td>24.11.2020 23:39</td>\n",
              "    </tr>\n",
              "    <tr>\n",
              "      <th>349999</th>\n",
              "      <td>fk_otkritie</td>\n",
              "      <td>В связи с тем, что у меня кредит официально об...</td>\n",
              "      <td>NaN</td>\n",
              "      <td>04.10.2016 13:21</td>\n",
              "    </tr>\n",
              "  </tbody>\n",
              "</table>\n",
              "<p>109750 rows × 4 columns</p>\n",
              "</div>\n",
              "      <button class=\"colab-df-convert\" onclick=\"convertToInteractive('df-ddbe259f-0fca-48b7-af32-d75f36bdb053')\"\n",
              "              title=\"Convert this dataframe to an interactive table.\"\n",
              "              style=\"display:none;\">\n",
              "        \n",
              "  <svg xmlns=\"http://www.w3.org/2000/svg\" height=\"24px\"viewBox=\"0 0 24 24\"\n",
              "       width=\"24px\">\n",
              "    <path d=\"M0 0h24v24H0V0z\" fill=\"none\"/>\n",
              "    <path d=\"M18.56 5.44l.94 2.06.94-2.06 2.06-.94-2.06-.94-.94-2.06-.94 2.06-2.06.94zm-11 1L8.5 8.5l.94-2.06 2.06-.94-2.06-.94L8.5 2.5l-.94 2.06-2.06.94zm10 10l.94 2.06.94-2.06 2.06-.94-2.06-.94-.94-2.06-.94 2.06-2.06.94z\"/><path d=\"M17.41 7.96l-1.37-1.37c-.4-.4-.92-.59-1.43-.59-.52 0-1.04.2-1.43.59L10.3 9.45l-7.72 7.72c-.78.78-.78 2.05 0 2.83L4 21.41c.39.39.9.59 1.41.59.51 0 1.02-.2 1.41-.59l7.78-7.78 2.81-2.81c.8-.78.8-2.07 0-2.86zM5.41 20L4 18.59l7.72-7.72 1.47 1.35L5.41 20z\"/>\n",
              "  </svg>\n",
              "      </button>\n",
              "      \n",
              "  <style>\n",
              "    .colab-df-container {\n",
              "      display:flex;\n",
              "      flex-wrap:wrap;\n",
              "      gap: 12px;\n",
              "    }\n",
              "\n",
              "    .colab-df-convert {\n",
              "      background-color: #E8F0FE;\n",
              "      border: none;\n",
              "      border-radius: 50%;\n",
              "      cursor: pointer;\n",
              "      display: none;\n",
              "      fill: #1967D2;\n",
              "      height: 32px;\n",
              "      padding: 0 0 0 0;\n",
              "      width: 32px;\n",
              "    }\n",
              "\n",
              "    .colab-df-convert:hover {\n",
              "      background-color: #E2EBFA;\n",
              "      box-shadow: 0px 1px 2px rgba(60, 64, 67, 0.3), 0px 1px 3px 1px rgba(60, 64, 67, 0.15);\n",
              "      fill: #174EA6;\n",
              "    }\n",
              "\n",
              "    [theme=dark] .colab-df-convert {\n",
              "      background-color: #3B4455;\n",
              "      fill: #D2E3FC;\n",
              "    }\n",
              "\n",
              "    [theme=dark] .colab-df-convert:hover {\n",
              "      background-color: #434B5C;\n",
              "      box-shadow: 0px 1px 3px 1px rgba(0, 0, 0, 0.15);\n",
              "      filter: drop-shadow(0px 1px 2px rgba(0, 0, 0, 0.3));\n",
              "      fill: #FFFFFF;\n",
              "    }\n",
              "  </style>\n",
              "\n",
              "      <script>\n",
              "        const buttonEl =\n",
              "          document.querySelector('#df-ddbe259f-0fca-48b7-af32-d75f36bdb053 button.colab-df-convert');\n",
              "        buttonEl.style.display =\n",
              "          google.colab.kernel.accessAllowed ? 'block' : 'none';\n",
              "\n",
              "        async function convertToInteractive(key) {\n",
              "          const element = document.querySelector('#df-ddbe259f-0fca-48b7-af32-d75f36bdb053');\n",
              "          const dataTable =\n",
              "            await google.colab.kernel.invokeFunction('convertToInteractive',\n",
              "                                                     [key], {});\n",
              "          if (!dataTable) return;\n",
              "\n",
              "          const docLinkHtml = 'Like what you see? Visit the ' +\n",
              "            '<a target=\"_blank\" href=https://colab.research.google.com/notebooks/data_table.ipynb>data table notebook</a>'\n",
              "            + ' to learn more about interactive tables.';\n",
              "          element.innerHTML = '';\n",
              "          dataTable['output_type'] = 'display_data';\n",
              "          await google.colab.output.renderOutput(dataTable, element);\n",
              "          const docLink = document.createElement('div');\n",
              "          docLink.innerHTML = docLinkHtml;\n",
              "          element.appendChild(docLink);\n",
              "        }\n",
              "      </script>\n",
              "    </div>\n",
              "  </div>\n",
              "  "
            ]
          },
          "metadata": {},
          "execution_count": 7
        }
      ]
    },
    {
      "cell_type": "markdown",
      "source": [
        "Пока что дропнем пропуски, потом придумаем, как их предобработать"
      ],
      "metadata": {
        "id": "-L6h3YUcQLxf"
      }
    },
    {
      "cell_type": "code",
      "source": [
        "train = train.dropna()"
      ],
      "metadata": {
        "id": "LZ9cKZQyQSlc"
      },
      "execution_count": 8,
      "outputs": []
    },
    {
      "cell_type": "code",
      "source": [
        "train = train.astype({'grades': 'int32'})"
      ],
      "metadata": {
        "id": "B1N39f-sQrt0"
      },
      "execution_count": 9,
      "outputs": []
    },
    {
      "cell_type": "markdown",
      "source": [
        "### Обработка текста"
      ],
      "metadata": {
        "id": "G2wHLxhHykRt"
      }
    },
    {
      "cell_type": "code",
      "source": [
        "m = MorphAnalyzer()\n",
        "regex = re.compile(\"[А-Яа-яA-z()?!.,]+\")\n",
        "\n",
        "def words_only(text, regex=regex):\n",
        "    try:\n",
        "        return regex.findall(text.lower())\n",
        "    except:\n",
        "        return []\n",
        "\n",
        "@lru_cache(maxsize=128)\n",
        "def lemmatize_word(token, pymorphy=m):\n",
        "    return pymorphy.parse(token)[0].normal_form\n",
        "\n",
        "def lemmatize_text(text):\n",
        "    return [lemmatize_word(w) for w in text]\n",
        "\n",
        "\n",
        "mystopwords = stopwords.words('russian') \n",
        "def remove_stopwords(lemmas, stopwords = mystopwords):\n",
        "    return [w for w in lemmas if not w in stopwords and len(w) > 3]\n",
        "\n",
        "def clean_text(text):\n",
        "    tokens = words_only(text)\n",
        "    lemmas = lemmatize_text(tokens)\n",
        "    \n",
        "    return ' '.join(remove_stopwords(lemmas))"
      ],
      "metadata": {
        "id": "_3u9rI0IyqW-"
      },
      "execution_count": 11,
      "outputs": []
    },
    {
      "cell_type": "code",
      "source": [
        "with Pool(4) as p:\n",
        "    lemmas = list(tqdm(p.imap(clean_text, train['feeds']), total=len(train)))\n",
        "    \n",
        "train['lemmas'] = lemmas\n",
        "train.sample(5)"
      ],
      "metadata": {
        "colab": {
          "base_uri": "https://localhost:8080/",
          "height": 224
        },
        "id": "N55pW7Gry-Tw",
        "outputId": "c317fd78-5507-42c5-f53e-809dbe4efca4"
      },
      "execution_count": 12,
      "outputs": [
        {
          "output_type": "stream",
          "name": "stderr",
          "text": [
            "100%|██████████| 240250/240250 [1:41:34<00:00, 39.42it/s]\n"
          ]
        },
        {
          "output_type": "execute_result",
          "data": {
            "text/plain": [
              "              bank                                              feeds  grades  \\\n",
              "23204     sberbank  Хочу выразить огромную благодарность сотрудник...       5   \n",
              "12441          rsb  В ноябре 2014 г. пытался получить доступ к моб...       1   \n",
              "233582    sberbank  Добрый день. Начну с самого начала. Случилась ...       1   \n",
              "293960  pochtabank  Хочу поделиться своей историей, которая меня з...       5   \n",
              "235201  sovcombank  Не первый год пользуюсь услугами Совкомбанка. ...       5   \n",
              "\n",
              "                    date                                             lemmas  \n",
              "23204    20.04.2016 8:15  хотеть выразить огромный благодарность сотрудн...  \n",
              "12441   08.05.2015 13:52  ноябрь пытаться получить доступ мобильный банк...  \n",
              "233582  20.11.2020 17:05  добрый день. начать начала. случиться жизнь не...  \n",
              "293960  21.03.2019 18:54  хотеть поделиться свой историей, который заста...  \n",
              "235201  12.10.2019 18:00  первый пользоваться услуга совкомбанка. делать...  "
            ],
            "text/html": [
              "\n",
              "  <div id=\"df-61ef42c0-06ed-4c20-aef7-8c3aca924ca6\">\n",
              "    <div class=\"colab-df-container\">\n",
              "      <div>\n",
              "<style scoped>\n",
              "    .dataframe tbody tr th:only-of-type {\n",
              "        vertical-align: middle;\n",
              "    }\n",
              "\n",
              "    .dataframe tbody tr th {\n",
              "        vertical-align: top;\n",
              "    }\n",
              "\n",
              "    .dataframe thead th {\n",
              "        text-align: right;\n",
              "    }\n",
              "</style>\n",
              "<table border=\"1\" class=\"dataframe\">\n",
              "  <thead>\n",
              "    <tr style=\"text-align: right;\">\n",
              "      <th></th>\n",
              "      <th>bank</th>\n",
              "      <th>feeds</th>\n",
              "      <th>grades</th>\n",
              "      <th>date</th>\n",
              "      <th>lemmas</th>\n",
              "    </tr>\n",
              "  </thead>\n",
              "  <tbody>\n",
              "    <tr>\n",
              "      <th>23204</th>\n",
              "      <td>sberbank</td>\n",
              "      <td>Хочу выразить огромную благодарность сотрудник...</td>\n",
              "      <td>5</td>\n",
              "      <td>20.04.2016 8:15</td>\n",
              "      <td>хотеть выразить огромный благодарность сотрудн...</td>\n",
              "    </tr>\n",
              "    <tr>\n",
              "      <th>12441</th>\n",
              "      <td>rsb</td>\n",
              "      <td>В ноябре 2014 г. пытался получить доступ к моб...</td>\n",
              "      <td>1</td>\n",
              "      <td>08.05.2015 13:52</td>\n",
              "      <td>ноябрь пытаться получить доступ мобильный банк...</td>\n",
              "    </tr>\n",
              "    <tr>\n",
              "      <th>233582</th>\n",
              "      <td>sberbank</td>\n",
              "      <td>Добрый день. Начну с самого начала. Случилась ...</td>\n",
              "      <td>1</td>\n",
              "      <td>20.11.2020 17:05</td>\n",
              "      <td>добрый день. начать начала. случиться жизнь не...</td>\n",
              "    </tr>\n",
              "    <tr>\n",
              "      <th>293960</th>\n",
              "      <td>pochtabank</td>\n",
              "      <td>Хочу поделиться своей историей, которая меня з...</td>\n",
              "      <td>5</td>\n",
              "      <td>21.03.2019 18:54</td>\n",
              "      <td>хотеть поделиться свой историей, который заста...</td>\n",
              "    </tr>\n",
              "    <tr>\n",
              "      <th>235201</th>\n",
              "      <td>sovcombank</td>\n",
              "      <td>Не первый год пользуюсь услугами Совкомбанка. ...</td>\n",
              "      <td>5</td>\n",
              "      <td>12.10.2019 18:00</td>\n",
              "      <td>первый пользоваться услуга совкомбанка. делать...</td>\n",
              "    </tr>\n",
              "  </tbody>\n",
              "</table>\n",
              "</div>\n",
              "      <button class=\"colab-df-convert\" onclick=\"convertToInteractive('df-61ef42c0-06ed-4c20-aef7-8c3aca924ca6')\"\n",
              "              title=\"Convert this dataframe to an interactive table.\"\n",
              "              style=\"display:none;\">\n",
              "        \n",
              "  <svg xmlns=\"http://www.w3.org/2000/svg\" height=\"24px\"viewBox=\"0 0 24 24\"\n",
              "       width=\"24px\">\n",
              "    <path d=\"M0 0h24v24H0V0z\" fill=\"none\"/>\n",
              "    <path d=\"M18.56 5.44l.94 2.06.94-2.06 2.06-.94-2.06-.94-.94-2.06-.94 2.06-2.06.94zm-11 1L8.5 8.5l.94-2.06 2.06-.94-2.06-.94L8.5 2.5l-.94 2.06-2.06.94zm10 10l.94 2.06.94-2.06 2.06-.94-2.06-.94-.94-2.06-.94 2.06-2.06.94z\"/><path d=\"M17.41 7.96l-1.37-1.37c-.4-.4-.92-.59-1.43-.59-.52 0-1.04.2-1.43.59L10.3 9.45l-7.72 7.72c-.78.78-.78 2.05 0 2.83L4 21.41c.39.39.9.59 1.41.59.51 0 1.02-.2 1.41-.59l7.78-7.78 2.81-2.81c.8-.78.8-2.07 0-2.86zM5.41 20L4 18.59l7.72-7.72 1.47 1.35L5.41 20z\"/>\n",
              "  </svg>\n",
              "      </button>\n",
              "      \n",
              "  <style>\n",
              "    .colab-df-container {\n",
              "      display:flex;\n",
              "      flex-wrap:wrap;\n",
              "      gap: 12px;\n",
              "    }\n",
              "\n",
              "    .colab-df-convert {\n",
              "      background-color: #E8F0FE;\n",
              "      border: none;\n",
              "      border-radius: 50%;\n",
              "      cursor: pointer;\n",
              "      display: none;\n",
              "      fill: #1967D2;\n",
              "      height: 32px;\n",
              "      padding: 0 0 0 0;\n",
              "      width: 32px;\n",
              "    }\n",
              "\n",
              "    .colab-df-convert:hover {\n",
              "      background-color: #E2EBFA;\n",
              "      box-shadow: 0px 1px 2px rgba(60, 64, 67, 0.3), 0px 1px 3px 1px rgba(60, 64, 67, 0.15);\n",
              "      fill: #174EA6;\n",
              "    }\n",
              "\n",
              "    [theme=dark] .colab-df-convert {\n",
              "      background-color: #3B4455;\n",
              "      fill: #D2E3FC;\n",
              "    }\n",
              "\n",
              "    [theme=dark] .colab-df-convert:hover {\n",
              "      background-color: #434B5C;\n",
              "      box-shadow: 0px 1px 3px 1px rgba(0, 0, 0, 0.15);\n",
              "      filter: drop-shadow(0px 1px 2px rgba(0, 0, 0, 0.3));\n",
              "      fill: #FFFFFF;\n",
              "    }\n",
              "  </style>\n",
              "\n",
              "      <script>\n",
              "        const buttonEl =\n",
              "          document.querySelector('#df-61ef42c0-06ed-4c20-aef7-8c3aca924ca6 button.colab-df-convert');\n",
              "        buttonEl.style.display =\n",
              "          google.colab.kernel.accessAllowed ? 'block' : 'none';\n",
              "\n",
              "        async function convertToInteractive(key) {\n",
              "          const element = document.querySelector('#df-61ef42c0-06ed-4c20-aef7-8c3aca924ca6');\n",
              "          const dataTable =\n",
              "            await google.colab.kernel.invokeFunction('convertToInteractive',\n",
              "                                                     [key], {});\n",
              "          if (!dataTable) return;\n",
              "\n",
              "          const docLinkHtml = 'Like what you see? Visit the ' +\n",
              "            '<a target=\"_blank\" href=https://colab.research.google.com/notebooks/data_table.ipynb>data table notebook</a>'\n",
              "            + ' to learn more about interactive tables.';\n",
              "          element.innerHTML = '';\n",
              "          dataTable['output_type'] = 'display_data';\n",
              "          await google.colab.output.renderOutput(dataTable, element);\n",
              "          const docLink = document.createElement('div');\n",
              "          docLink.innerHTML = docLinkHtml;\n",
              "          element.appendChild(docLink);\n",
              "        }\n",
              "      </script>\n",
              "    </div>\n",
              "  </div>\n",
              "  "
            ]
          },
          "metadata": {},
          "execution_count": 12
        }
      ]
    },
    {
      "cell_type": "code",
      "source": [
        "with Pool(4) as p:\n",
        "    lemmas_test = list(tqdm(p.imap(clean_text, test['feeds']), total=len(test)))\n",
        "test['lemmas'] = lemmas_test\n",
        "test.sample(5)"
      ],
      "metadata": {
        "colab": {
          "base_uri": "https://localhost:8080/",
          "height": 224
        },
        "id": "OxTqCrZdzwNE",
        "outputId": "fbbc5474-9b37-46e2-e702-3e8722b6ce26"
      },
      "execution_count": 14,
      "outputs": [
        {
          "output_type": "stream",
          "name": "stderr",
          "text": [
            "100%|██████████| 34114/34114 [14:52<00:00, 38.22it/s]\n"
          ]
        },
        {
          "output_type": "execute_result",
          "data": {
            "text/plain": [
              "       Unnamed: 0        bank  \\\n",
              "20316       20316  raiffeisen   \n",
              "27720       27720    sberbank   \n",
              "29452       29452  raiffeisen   \n",
              "32675       32675    sberbank   \n",
              "25542       25542  sovcombank   \n",
              "\n",
              "                                                   feeds              date  \\\n",
              "20316  У меня в Вашем банке зарплатная карта. Все вро...  22.10.2013 11:26   \n",
              "27720  Расскажу свой опыт обращения в Сбербанк. Нам п...  30.07.2014 20:48   \n",
              "29452  Обратился в отделение Банка с просьбой отключи...   13.09.2019 1:20   \n",
              "32675  Со Сбербанком общаюсь давно, четвертый год пол...  23.12.2014 14:20   \n",
              "25542  Добрый день!До конца 2018 года являлся счастли...  05.09.2019 14:59   \n",
              "\n",
              "                                                  lemmas  \n",
              "20316  банк зарплатный карта. вроде устраивать банком...  \n",
              "27720  рассказать свой опыт обращение сбербанк. понад...  \n",
              "29452  обратиться отделение банк просьба отключить ст...  \n",
              "32675  сбербанк общаться давно, четвёртый получать за...  \n",
              "25542  добрый день!дый конец являться счастливый обла...  "
            ],
            "text/html": [
              "\n",
              "  <div id=\"df-f60fc4dd-4805-4c92-ad12-ed0b9239f9b0\">\n",
              "    <div class=\"colab-df-container\">\n",
              "      <div>\n",
              "<style scoped>\n",
              "    .dataframe tbody tr th:only-of-type {\n",
              "        vertical-align: middle;\n",
              "    }\n",
              "\n",
              "    .dataframe tbody tr th {\n",
              "        vertical-align: top;\n",
              "    }\n",
              "\n",
              "    .dataframe thead th {\n",
              "        text-align: right;\n",
              "    }\n",
              "</style>\n",
              "<table border=\"1\" class=\"dataframe\">\n",
              "  <thead>\n",
              "    <tr style=\"text-align: right;\">\n",
              "      <th></th>\n",
              "      <th>Unnamed: 0</th>\n",
              "      <th>bank</th>\n",
              "      <th>feeds</th>\n",
              "      <th>date</th>\n",
              "      <th>lemmas</th>\n",
              "    </tr>\n",
              "  </thead>\n",
              "  <tbody>\n",
              "    <tr>\n",
              "      <th>20316</th>\n",
              "      <td>20316</td>\n",
              "      <td>raiffeisen</td>\n",
              "      <td>У меня в Вашем банке зарплатная карта. Все вро...</td>\n",
              "      <td>22.10.2013 11:26</td>\n",
              "      <td>банк зарплатный карта. вроде устраивать банком...</td>\n",
              "    </tr>\n",
              "    <tr>\n",
              "      <th>27720</th>\n",
              "      <td>27720</td>\n",
              "      <td>sberbank</td>\n",
              "      <td>Расскажу свой опыт обращения в Сбербанк. Нам п...</td>\n",
              "      <td>30.07.2014 20:48</td>\n",
              "      <td>рассказать свой опыт обращение сбербанк. понад...</td>\n",
              "    </tr>\n",
              "    <tr>\n",
              "      <th>29452</th>\n",
              "      <td>29452</td>\n",
              "      <td>raiffeisen</td>\n",
              "      <td>Обратился в отделение Банка с просьбой отключи...</td>\n",
              "      <td>13.09.2019 1:20</td>\n",
              "      <td>обратиться отделение банк просьба отключить ст...</td>\n",
              "    </tr>\n",
              "    <tr>\n",
              "      <th>32675</th>\n",
              "      <td>32675</td>\n",
              "      <td>sberbank</td>\n",
              "      <td>Со Сбербанком общаюсь давно, четвертый год пол...</td>\n",
              "      <td>23.12.2014 14:20</td>\n",
              "      <td>сбербанк общаться давно, четвёртый получать за...</td>\n",
              "    </tr>\n",
              "    <tr>\n",
              "      <th>25542</th>\n",
              "      <td>25542</td>\n",
              "      <td>sovcombank</td>\n",
              "      <td>Добрый день!До конца 2018 года являлся счастли...</td>\n",
              "      <td>05.09.2019 14:59</td>\n",
              "      <td>добрый день!дый конец являться счастливый обла...</td>\n",
              "    </tr>\n",
              "  </tbody>\n",
              "</table>\n",
              "</div>\n",
              "      <button class=\"colab-df-convert\" onclick=\"convertToInteractive('df-f60fc4dd-4805-4c92-ad12-ed0b9239f9b0')\"\n",
              "              title=\"Convert this dataframe to an interactive table.\"\n",
              "              style=\"display:none;\">\n",
              "        \n",
              "  <svg xmlns=\"http://www.w3.org/2000/svg\" height=\"24px\"viewBox=\"0 0 24 24\"\n",
              "       width=\"24px\">\n",
              "    <path d=\"M0 0h24v24H0V0z\" fill=\"none\"/>\n",
              "    <path d=\"M18.56 5.44l.94 2.06.94-2.06 2.06-.94-2.06-.94-.94-2.06-.94 2.06-2.06.94zm-11 1L8.5 8.5l.94-2.06 2.06-.94-2.06-.94L8.5 2.5l-.94 2.06-2.06.94zm10 10l.94 2.06.94-2.06 2.06-.94-2.06-.94-.94-2.06-.94 2.06-2.06.94z\"/><path d=\"M17.41 7.96l-1.37-1.37c-.4-.4-.92-.59-1.43-.59-.52 0-1.04.2-1.43.59L10.3 9.45l-7.72 7.72c-.78.78-.78 2.05 0 2.83L4 21.41c.39.39.9.59 1.41.59.51 0 1.02-.2 1.41-.59l7.78-7.78 2.81-2.81c.8-.78.8-2.07 0-2.86zM5.41 20L4 18.59l7.72-7.72 1.47 1.35L5.41 20z\"/>\n",
              "  </svg>\n",
              "      </button>\n",
              "      \n",
              "  <style>\n",
              "    .colab-df-container {\n",
              "      display:flex;\n",
              "      flex-wrap:wrap;\n",
              "      gap: 12px;\n",
              "    }\n",
              "\n",
              "    .colab-df-convert {\n",
              "      background-color: #E8F0FE;\n",
              "      border: none;\n",
              "      border-radius: 50%;\n",
              "      cursor: pointer;\n",
              "      display: none;\n",
              "      fill: #1967D2;\n",
              "      height: 32px;\n",
              "      padding: 0 0 0 0;\n",
              "      width: 32px;\n",
              "    }\n",
              "\n",
              "    .colab-df-convert:hover {\n",
              "      background-color: #E2EBFA;\n",
              "      box-shadow: 0px 1px 2px rgba(60, 64, 67, 0.3), 0px 1px 3px 1px rgba(60, 64, 67, 0.15);\n",
              "      fill: #174EA6;\n",
              "    }\n",
              "\n",
              "    [theme=dark] .colab-df-convert {\n",
              "      background-color: #3B4455;\n",
              "      fill: #D2E3FC;\n",
              "    }\n",
              "\n",
              "    [theme=dark] .colab-df-convert:hover {\n",
              "      background-color: #434B5C;\n",
              "      box-shadow: 0px 1px 3px 1px rgba(0, 0, 0, 0.15);\n",
              "      filter: drop-shadow(0px 1px 2px rgba(0, 0, 0, 0.3));\n",
              "      fill: #FFFFFF;\n",
              "    }\n",
              "  </style>\n",
              "\n",
              "      <script>\n",
              "        const buttonEl =\n",
              "          document.querySelector('#df-f60fc4dd-4805-4c92-ad12-ed0b9239f9b0 button.colab-df-convert');\n",
              "        buttonEl.style.display =\n",
              "          google.colab.kernel.accessAllowed ? 'block' : 'none';\n",
              "\n",
              "        async function convertToInteractive(key) {\n",
              "          const element = document.querySelector('#df-f60fc4dd-4805-4c92-ad12-ed0b9239f9b0');\n",
              "          const dataTable =\n",
              "            await google.colab.kernel.invokeFunction('convertToInteractive',\n",
              "                                                     [key], {});\n",
              "          if (!dataTable) return;\n",
              "\n",
              "          const docLinkHtml = 'Like what you see? Visit the ' +\n",
              "            '<a target=\"_blank\" href=https://colab.research.google.com/notebooks/data_table.ipynb>data table notebook</a>'\n",
              "            + ' to learn more about interactive tables.';\n",
              "          element.innerHTML = '';\n",
              "          dataTable['output_type'] = 'display_data';\n",
              "          await google.colab.output.renderOutput(dataTable, element);\n",
              "          const docLink = document.createElement('div');\n",
              "          docLink.innerHTML = docLinkHtml;\n",
              "          element.appendChild(docLink);\n",
              "        }\n",
              "      </script>\n",
              "    </div>\n",
              "  </div>\n",
              "  "
            ]
          },
          "metadata": {},
          "execution_count": 14
        }
      ]
    },
    {
      "cell_type": "code",
      "source": [
        "train.to_csv('train.csv', index=False)"
      ],
      "metadata": {
        "id": "pghQ_pviz1CA"
      },
      "execution_count": 13,
      "outputs": []
    },
    {
      "cell_type": "code",
      "source": [
        "test.to_csv('test.csv', index=False)"
      ],
      "metadata": {
        "id": "tnFmyBtDz957"
      },
      "execution_count": 15,
      "outputs": []
    },
    {
      "cell_type": "code",
      "source": [
        "!cp 'train.csv' '/content/drive/MyDrive/nlp_hse/'"
      ],
      "metadata": {
        "id": "MLw9HXSrRQMz"
      },
      "execution_count": 16,
      "outputs": []
    },
    {
      "cell_type": "code",
      "source": [
        "!cp 'test.csv' '/content/drive/MyDrive/nlp_hse/'"
      ],
      "metadata": {
        "id": "XbUrTmM_RQYA"
      },
      "execution_count": 17,
      "outputs": []
    },
    {
      "cell_type": "markdown",
      "source": [
        "## ML"
      ],
      "metadata": {
        "id": "mbmuL0e8QkG1"
      }
    },
    {
      "cell_type": "code",
      "source": [
        "train = pd.read_csv(\"/content/drive/My Drive/nlp_hse/train.csv\")"
      ],
      "metadata": {
        "id": "6Yb5vzmhfGhN"
      },
      "execution_count": 4,
      "outputs": []
    },
    {
      "cell_type": "code",
      "source": [
        "test = pd.read_csv(\"/content/drive/My Drive/nlp_hse/test.csv\")"
      ],
      "metadata": {
        "id": "HBjBcQ5AfGhP"
      },
      "execution_count": 6,
      "outputs": []
    },
    {
      "cell_type": "code",
      "source": [
        "# Максимальное количество слов \n",
        "num_words = 10000\n",
        "# Максимальная длина отзыва\n",
        "max_news_len = 1000\n",
        "# Количество классов отзывов\n",
        "nb_classes = 5"
      ],
      "metadata": {
        "id": "rMGR6O6OmLXf"
      },
      "execution_count": 8,
      "outputs": []
    },
    {
      "cell_type": "code",
      "source": [
        "text = train['lemmas']\n",
        "text"
      ],
      "metadata": {
        "colab": {
          "base_uri": "https://localhost:8080/"
        },
        "id": "EC2AGwYQmbqh",
        "outputId": "db90dfc2-7ab0-4661-e3cd-d76703e1c31e"
      },
      "execution_count": 9,
      "outputs": [
        {
          "output_type": "execute_result",
          "data": {
            "text/plain": [
              "0         очень редко пользоваться банковский продуктами...\n",
              "1         вместе жена обратиться отделение банк открытие...\n",
              "2         добрый день.сегодня около банкомат адрес рязан...\n",
              "3         карточка открывали, туда идите... фраза давно ...\n",
              "4         оформить кредит наличные отделение почта банка...\n",
              "                                ...                        \n",
              "240245    являться зарплатник сбербанка, поэтому выбор б...\n",
              "240246    открывать первый расчётный счёт различный банк...\n",
              "240247    хотеть поделиться свой положительный опыт полу...\n",
              "240248    добрый день!хотеть оставить отзыв банк юникред...\n",
              "240249    добрый дня! обратиться локо банк просьба рестр...\n",
              "Name: lemmas, Length: 240250, dtype: object"
            ]
          },
          "metadata": {},
          "execution_count": 9
        }
      ]
    },
    {
      "cell_type": "code",
      "source": [
        "y_train = utils.to_categorical(train['grades'] - 1, nb_classes)\n",
        "y_train"
      ],
      "metadata": {
        "colab": {
          "base_uri": "https://localhost:8080/"
        },
        "id": "SwOIPowRmTST",
        "outputId": "306d15fb-a1e6-4f39-be16-301d1f1bc0af"
      },
      "execution_count": 10,
      "outputs": [
        {
          "output_type": "execute_result",
          "data": {
            "text/plain": [
              "array([[0., 0., 0., 0., 1.],\n",
              "       [1., 0., 0., 0., 0.],\n",
              "       [1., 0., 0., 0., 0.],\n",
              "       ...,\n",
              "       [0., 0., 0., 0., 1.],\n",
              "       [1., 0., 0., 0., 0.],\n",
              "       [0., 0., 0., 0., 1.]], dtype=float32)"
            ]
          },
          "metadata": {},
          "execution_count": 10
        }
      ]
    },
    {
      "cell_type": "markdown",
      "source": [
        "### Токенизация"
      ],
      "metadata": {
        "id": "q9osa5KHmoo_"
      }
    },
    {
      "cell_type": "code",
      "source": [
        "tokenizer = Tokenizer(num_words=num_words, filters='\\t\\n')"
      ],
      "metadata": {
        "id": "Ns_sHMsRmp7I"
      },
      "execution_count": 23,
      "outputs": []
    },
    {
      "cell_type": "code",
      "source": [
        "tokenizer.fit_on_texts(text)"
      ],
      "metadata": {
        "id": "LUyTJBaFmsmU"
      },
      "execution_count": 24,
      "outputs": []
    },
    {
      "cell_type": "markdown",
      "source": [
        "Словарь токенизатора"
      ],
      "metadata": {
        "id": "TvOKISmxmv85"
      }
    },
    {
      "cell_type": "code",
      "source": [
        "tokenizer.word_index"
      ],
      "metadata": {
        "colab": {
          "base_uri": "https://localhost:8080/"
        },
        "id": "pfRiMQnwmvOr",
        "outputId": "d7ad6638-0aa6-425d-b008-31b4e0c8ad74"
      },
      "execution_count": 25,
      "outputs": [
        {
          "output_type": "execute_result",
          "data": {
            "text/plain": [
              "{'банк': 1,\n",
              " 'карта': 2,\n",
              " 'который': 3,\n",
              " 'сотрудник': 4,\n",
              " 'кредит': 5,\n",
              " 'свой': 6,\n",
              " 'деньга': 7,\n",
              " 'отделение': 8,\n",
              " 'мочь': 9,\n",
              " 'день': 10,\n",
              " 'кредитный': 11,\n",
              " 'клиент': 12,\n",
              " 'сумма': 13,\n",
              " 'очень': 14,\n",
              " 'весь': 15,\n",
              " 'счёт': 16,\n",
              " 'получить': 17,\n",
              " 'вопрос': 18,\n",
              " 'время': 19,\n",
              " 'заявление': 20,\n",
              " 'дать': 21,\n",
              " 'договор': 22,\n",
              " 'офис': 23,\n",
              " 'ответ': 24,\n",
              " 'обратиться': 25,\n",
              " 'решить': 26,\n",
              " 'хотеть': 27,\n",
              " 'заявка': 28,\n",
              " 'позвонить': 29,\n",
              " 'банка,': 30,\n",
              " 'прийти': 31,\n",
              " 'данный': 32,\n",
              " 'номер': 33,\n",
              " 'написать': 34,\n",
              " 'звонить': 35,\n",
              " 'сказать': 36,\n",
              " 'платёж': 37,\n",
              " 'сбербанк': 38,\n",
              " 'должный': 39,\n",
              " 'просто': 40,\n",
              " 'документ': 41,\n",
              " 'услуга': 42,\n",
              " 'месяц': 43,\n",
              " 'средство': 44,\n",
              " 'оформить': 45,\n",
              " 'работа': 46,\n",
              " 'срок': 47,\n",
              " 'обращение': 48,\n",
              " 'почему': 49,\n",
              " 'проблема': 50,\n",
              " 'большой': 51,\n",
              " 'телефон': 52,\n",
              " 'условие': 53,\n",
              " 'работать': 54,\n",
              " 'сделать': 55,\n",
              " 'менеджер': 56,\n",
              " 'звонок': 57,\n",
              " 'информация': 58,\n",
              " 'новый': 59,\n",
              " 'нужно': 60,\n",
              " 'являться': 61,\n",
              " 'банка.': 62,\n",
              " 'никакой': 63,\n",
              " 'обслуживание': 64,\n",
              " 'первый': 65,\n",
              " 'горячий': 66,\n",
              " 'просить': 67,\n",
              " 'банк,': 68,\n",
              " 'течение': 69,\n",
              " 'несколько': 70,\n",
              " 'вклад': 71,\n",
              " 'банкомат': 72,\n",
              " 'пользоваться': 73,\n",
              " 'оператор': 74,\n",
              " 'процент': 75,\n",
              " 'том,': 76,\n",
              " 'комиссия': 77,\n",
              " 'итог': 78,\n",
              " 'решение': 79,\n",
              " 'также': 80,\n",
              " 'ждать': 81,\n",
              " 'операция': 82,\n",
              " 'взять': 83,\n",
              " 'денежный': 84,\n",
              " 'стать': 85,\n",
              " 'ситуация': 86,\n",
              " 'следующий': 87,\n",
              " 'сайт': 88,\n",
              " 'никто': 89,\n",
              " 'добрый': 90,\n",
              " 'говорить': 91,\n",
              " 'специалист': 92,\n",
              " 'сегодня': 93,\n",
              " 'сразу': 94,\n",
              " 'перевод': 95,\n",
              " 'писать': 96,\n",
              " 'предложить': 97,\n",
              " 'хотя': 98,\n",
              " 'иметь': 99,\n",
              " 'линия': 100,\n",
              " 'интернет': 101,\n",
              " 'момент': 102,\n",
              " 'человек': 103,\n",
              " 'т.к.': 104,\n",
              " 'каждый': 105,\n",
              " 'рубль': 106,\n",
              " 'вообще': 107,\n",
              " 'оформление': 108,\n",
              " 'хороший': 109,\n",
              " 'получение': 110,\n",
              " 'открыть': 111,\n",
              " 'приходить': 112,\n",
              " 'девушка': 113,\n",
              " 'минута': 114,\n",
              " 'личный': 115,\n",
              " 'того,': 116,\n",
              " 'выдать': 117,\n",
              " 'принять': 118,\n",
              " 'самый': 119,\n",
              " 'спасибо': 120,\n",
              " 'ставка': 121,\n",
              " 'отношение': 122,\n",
              " 'оплата': 123,\n",
              " 'смочь': 124,\n",
              " 'приложение': 125,\n",
              " 'страховка': 126,\n",
              " 'вернуть': 127,\n",
              " 'предоставить': 128,\n",
              " 'адрес': 129,\n",
              " 'центр': 130,\n",
              " 'погашение': 131,\n",
              " 'ответить': 132,\n",
              " 'отправить': 133,\n",
              " 'закрыть': 134,\n",
              " 'пройти': 135,\n",
              " 'помочь': 136,\n",
              " 'обращаться': 137,\n",
              " 'дебетовый': 138,\n",
              " 'нужный': 139,\n",
              " 'руб.': 140,\n",
              " 'сказали,': 141,\n",
              " 'почта': 142,\n",
              " 'снова': 143,\n",
              " 'связь': 144,\n",
              " 'делать': 145,\n",
              " 'полный': 146,\n",
              " 'прийтись': 147,\n",
              " 'попросить': 148,\n",
              " 'неделя': 149,\n",
              " 'рабочий': 150,\n",
              " 'мобильный': 151,\n",
              " 'получать': 152,\n",
              " 'внести': 153,\n",
              " 'карту,': 154,\n",
              " 'оплатить': 155,\n",
              " 'случай': 156,\n",
              " 'идти': 157,\n",
              " 'либо': 158,\n",
              " 'любой': 159,\n",
              " 'очередь': 160,\n",
              " 'именно': 161,\n",
              " 'возможность': 162,\n",
              " 'пока': 163,\n",
              " 'брать': 164,\n",
              " 'сотрудница': 165,\n",
              " 'ипотека': 166,\n",
              " 'задолженность': 167,\n",
              " 'служба': 168,\n",
              " 'знать': 169,\n",
              " 'справка': 170,\n",
              " 'оставить': 171,\n",
              " 'отзыв': 172,\n",
              " 'просьба': 173,\n",
              " 'покупка': 174,\n",
              " 'банк.': 175,\n",
              " 'снять': 176,\n",
              " 'претензия': 177,\n",
              " 'дата': 178,\n",
              " 'нет.': 179,\n",
              " 'нет,': 180,\n",
              " 'друг': 181,\n",
              " 'онлайн': 182,\n",
              " 'указать': 183,\n",
              " 'открытие': 184,\n",
              " 'последний': 185,\n",
              " 'платить': 186,\n",
              " 'банковский': 187,\n",
              " 'подать': 188,\n",
              " 'остаться': 189,\n",
              " 'закрытие': 190,\n",
              " 'списать': 191,\n",
              " 'поддержка': 192,\n",
              " 'дело': 193,\n",
              " 'второй': 194,\n",
              " 'страхование': 195,\n",
              " 'сообщить': 196,\n",
              " 'перевести': 197,\n",
              " 'находиться': 198,\n",
              " 'причина': 199,\n",
              " 'слово': 200,\n",
              " 'пытаться': 201,\n",
              " 'размер': 202,\n",
              " 'система': 203,\n",
              " 'история': 204,\n",
              " 'конец': 205,\n",
              " 'программа': 206,\n",
              " 'сказала,': 207,\n",
              " 'ипотечный': 208,\n",
              " 'отказ': 209,\n",
              " 'карты,': 210,\n",
              " 'возврат': 211,\n",
              " 'предложение': 212,\n",
              " 'действие': 213,\n",
              " 'одобрить': 214,\n",
              " 'благодарность': 215,\n",
              " 'погасить': 216,\n",
              " 'поэтому': 217,\n",
              " 'лимит': 218,\n",
              " 'рассмотрение': 219,\n",
              " 'хотеться': 220,\n",
              " 'узнать': 221,\n",
              " 'оказаться': 222,\n",
              " 'приехать': 223,\n",
              " 'разобраться': 224,\n",
              " 'списание': 225,\n",
              " 'дополнительный': 226,\n",
              " 'объяснить': 227,\n",
              " 'ошибка': 228,\n",
              " 'карту.': 229,\n",
              " 'начать': 230,\n",
              " 'тинькофф': 231,\n",
              " 'письмо': 232,\n",
              " 'отвечать': 233,\n",
              " 'быстро': 234,\n",
              " 'представитель': 235,\n",
              " 'колл': 236,\n",
              " 'далее': 237,\n",
              " 'отказаться': 238,\n",
              " 'очередной': 239,\n",
              " 'начало': 240,\n",
              " 'данные': 241,\n",
              " 'досрочный': 242,\n",
              " 'оформлять': 243,\n",
              " 'давать': 244,\n",
              " 'сообщение': 245,\n",
              " 'право': 246,\n",
              " 'связаться': 247,\n",
              " 'пора': 248,\n",
              " 'зарплатный': 249,\n",
              " 'снятие': 250,\n",
              " 'результат': 251,\n",
              " 'плата': 252,\n",
              " 'дней.': 253,\n",
              " 'около': 254,\n",
              " 'электронный': 255,\n",
              " 'карты.': 256,\n",
              " 'рублей.': 257,\n",
              " 'необходимо': 258,\n",
              " 'общий': 259,\n",
              " 'кредит,': 260,\n",
              " 'пойти': 261,\n",
              " 'долг': 262,\n",
              " 'страховой': 263,\n",
              " 'сторона': 264,\n",
              " 'деньги,': 265,\n",
              " 'выписка': 266,\n",
              " 'составить': 267,\n",
              " 'огромный': 268,\n",
              " 'видеть': 269,\n",
              " 'необходимый': 270,\n",
              " 'продукт': 271,\n",
              " 'поступить': 272,\n",
              " 'банке,': 273,\n",
              " 'помощь': 274,\n",
              " 'отдел': 275,\n",
              " 'просрочка': 276,\n",
              " 'период': 277,\n",
              " 'обещать': 278,\n",
              " 'выдача': 279,\n",
              " 'запрос': 280,\n",
              " 'прислать': 281,\n",
              " 'число': 282,\n",
              " 'декабрь': 283,\n",
              " 'таки': 284,\n",
              " 'предлагать': 285,\n",
              " 'потребительский': 286,\n",
              " 'технический': 287,\n",
              " 'альфа': 288,\n",
              " 'остаток': 289,\n",
              " 'рассказать': 290,\n",
              " 'сколько': 291,\n",
              " 'город': 292,\n",
              " 'близкий': 293,\n",
              " 'разный': 294,\n",
              " 'ежемесячный': 295,\n",
              " 'пара': 296,\n",
              " 'место': 297,\n",
              " 'банке.': 298,\n",
              " 'требовать': 299,\n",
              " 'назад': 300,\n",
              " 'подключить': 301,\n",
              " 'дней,': 302,\n",
              " 'лицо': 303,\n",
              " 'день,': 304,\n",
              " 'жалоба': 305,\n",
              " 'уточнить': 306,\n",
              " 'пакет': 307,\n",
              " 'сервис': 308,\n",
              " 'кабинет': 309,\n",
              " 'сказал,': 310,\n",
              " 'касса': 311,\n",
              " 'выразить': 312,\n",
              " 'сделка': 313,\n",
              " 'потратить': 314,\n",
              " 'найти': 315,\n",
              " 'тариф': 316,\n",
              " 'готовый': 317,\n",
              " 'произойти': 318,\n",
              " 'рекомендовать': 319,\n",
              " 'подписать': 320,\n",
              " 'больший': 321,\n",
              " 'думать': 322,\n",
              " 'зайти': 323,\n",
              " 'стоить': 324,\n",
              " 'заблокировать': 325,\n",
              " 'провести': 326,\n",
              " 'указанный': 327,\n",
              " 'сначала': 328,\n",
              " 'день.': 329,\n",
              " 'мне,': 330,\n",
              " 'март': 331,\n",
              " 'рублей,': 332,\n",
              " 'т.е.': 333,\n",
              " 'магазин': 334,\n",
              " 'кредит.': 335,\n",
              " 'считать': 336,\n",
              " 'качество': 337,\n",
              " 'общение': 338,\n",
              " 'разговор': 339,\n",
              " 'возникнуть': 340,\n",
              " 'персональный': 341,\n",
              " 'перезвонить': 342,\n",
              " 'тысяча': 343,\n",
              " 'паспорт': 344,\n",
              " 'оплачивать': 345,\n",
              " 'положительный': 346,\n",
              " 'долго': 347,\n",
              " 'положить': 348,\n",
              " 'финансовый': 349,\n",
              " 'удобный': 350,\n",
              " 'процентный': 351,\n",
              " 'спросить': 352,\n",
              " 'спустя': 353,\n",
              " 'руководитель': 354,\n",
              " 'полностью': 355,\n",
              " 'выбрать': 356,\n",
              " 'начислить': 357,\n",
              " 'день!': 358,\n",
              " 'январь': 359,\n",
              " 'заказать': 360,\n",
              " 'воспользоваться': 361,\n",
              " 'некоторый': 362,\n",
              " 'забрать': 363,\n",
              " 'часть': 364,\n",
              " 'требование': 365,\n",
              " 'уведомление': 366,\n",
              " 'цель': 367,\n",
              " 'ранее': 368,\n",
              " 'проверить': 369,\n",
              " 'отделение,': 370,\n",
              " 'однако': 371,\n",
              " 'копия': 372,\n",
              " 'ноябрь': 373,\n",
              " 'уйти': 374,\n",
              " 'попытка': 375,\n",
              " 'факт': 376,\n",
              " 'закон': 377,\n",
              " 'работник': 378,\n",
              " 'повод': 379,\n",
              " 'действовать': 380,\n",
              " 'начаться': 381,\n",
              " 'вопрос,': 382,\n",
              " 'бесплатный': 383,\n",
              " 'апрель': 384,\n",
              " 'принимать': 385,\n",
              " 'оказалось,': 386,\n",
              " 'года,': 387,\n",
              " 'направить': 388,\n",
              " 'третий': 389,\n",
              " 'кроме': 390,\n",
              " 'кредита.': 391,\n",
              " 'компания': 392,\n",
              " 'давно': 393,\n",
              " 'кредита,': 394,\n",
              " 'вежливый': 395,\n",
              " 'терминал': 396,\n",
              " 'порядок': 397,\n",
              " 'высокий': 398,\n",
              " 'текущий': 399,\n",
              " 'октябрь': 400,\n",
              " 'основание': 401,\n",
              " 'рука': 402,\n",
              " 'деньги.': 403,\n",
              " 'наличный': 404,\n",
              " 'увидеть': 405,\n",
              " 'время,': 406,\n",
              " 'дальнейший': 407,\n",
              " 'решать': 408,\n",
              " 'года.': 409,\n",
              " 'акция': 410,\n",
              " 'меня,': 411,\n",
              " 'август': 412,\n",
              " 'февраль': 413,\n",
              " 'ответ,': 414,\n",
              " 'заплатить': 415,\n",
              " 'отсутствие': 416,\n",
              " 'передать': 417,\n",
              " 'постоянно': 418,\n",
              " 'было.': 419,\n",
              " 'вместо': 420,\n",
              " 'заполнить': 421,\n",
              " 'руководство': 422,\n",
              " 'сентябрь': 423,\n",
              " 'филиал': 424,\n",
              " 'отказать': 425,\n",
              " 'предоставление': 426,\n",
              " 'москва': 427,\n",
              " 'жизнь': 428,\n",
              " 'далёкий': 429,\n",
              " 'сидеть': 430,\n",
              " 'тем,': 431,\n",
              " 'подобный': 432,\n",
              " 'рассмотреть': 433,\n",
              " 'действительно': 434,\n",
              " 'снимать': 435,\n",
              " 'лишь': 436,\n",
              " 'вносить': 437,\n",
              " 'ожидание': 438,\n",
              " 'июль': 439,\n",
              " 'поставить': 440,\n",
              " 'уважаемый': 441,\n",
              " 'квартира': 442,\n",
              " 'образ': 443,\n",
              " 'рефинансирование': 444,\n",
              " 'ехать': 445,\n",
              " 'июнь': 446,\n",
              " 'маленький': 447,\n",
              " 'якобы': 448,\n",
              " 'точно': 449,\n",
              " 'попасть': 450,\n",
              " 'общем,': 451,\n",
              " 'плюс': 452,\n",
              " 'начинать': 453,\n",
              " 'подойти': 454,\n",
              " 'видимо': 455,\n",
              " 'лично': 456,\n",
              " 'появиться': 457,\n",
              " 'происходить': 458,\n",
              " 'ранний': 459,\n",
              " 'общаться': 460,\n",
              " 'внимание': 461,\n",
              " 'контактный': 462,\n",
              " 'процесс': 463,\n",
              " 'форма': 464,\n",
              " 'причём': 465,\n",
              " 'организация': 466,\n",
              " 'операционист': 467,\n",
              " 'документы,': 468,\n",
              " 'график': 469,\n",
              " 'согласно': 470,\n",
              " 'составлять': 471,\n",
              " 'оценка': 472,\n",
              " 'говорят,': 473,\n",
              " 'штраф': 474,\n",
              " 'так,': 475,\n",
              " 'понимаю,': 476,\n",
              " 'сообщили,': 477,\n",
              " 'сбер': 478,\n",
              " 'расчётный': 479,\n",
              " 'смс,': 480,\n",
              " 'простой': 481,\n",
              " 'желание': 482,\n",
              " 'приятно': 483,\n",
              " 'было,': 484,\n",
              " 'примерно': 485,\n",
              " 'достаточно': 486,\n",
              " 'вроде': 487,\n",
              " 'пункт': 488,\n",
              " 'изменение': 489,\n",
              " 'подтверждение': 490,\n",
              " 'поскольку': 491,\n",
              " 'просрочить': 492,\n",
              " 'совершить': 493,\n",
              " 'счет,': 494,\n",
              " 'заявление,': 495,\n",
              " 'потерять': 496,\n",
              " 'одобрение': 497,\n",
              " 'быстрый': 498,\n",
              " 'годовой': 499,\n",
              " 'выгодный': 500,\n",
              " 'спрашивать': 501,\n",
              " 'посмотреть': 502,\n",
              " 'старый': 503,\n",
              " 'возможно': 504,\n",
              " 'консультант': 505,\n",
              " 'раз,': 506,\n",
              " 'ожидать': 507,\n",
              " 'приходиться': 508,\n",
              " 'поздний': 509,\n",
              " 'понимать': 510,\n",
              " 'затем': 511,\n",
              " 'выдавать': 512,\n",
              " 'закрытый': 513,\n",
              " 'вынудить': 514,\n",
              " 'банком.': 515,\n",
              " 'приятный': 516,\n",
              " 'согласие': 517,\n",
              " 'отметить': 518,\n",
              " 'тратить': 519,\n",
              " 'выйти': 520,\n",
              " 'выяснилось,': 521,\n",
              " 'надеяться': 522,\n",
              " 'поступать': 523,\n",
              " 'туда': 524,\n",
              " 'смотреть': 525,\n",
              " 'заниматься': 526,\n",
              " 'открывать': 527,\n",
              " 'банком,': 528,\n",
              " 'дозвониться': 529,\n",
              " 'посоветовать': 530,\n",
              " 'всякий': 531,\n",
              " 'сложиться': 532,\n",
              " 'постоянный': 533,\n",
              " 'иметься': 534,\n",
              " 'линию,': 535,\n",
              " 'внесение': 536,\n",
              " 'что,': 537,\n",
              " 'довольный': 538,\n",
              " 'тыс.': 539,\n",
              " 'вернуться': 540,\n",
              " 'рассрочка': 541,\n",
              " 'письменный': 542,\n",
              " 'бонус': 543,\n",
              " 'единственный': 544,\n",
              " 'поехать': 545,\n",
              " 'русский': 546,\n",
              " 'консультация': 547,\n",
              " 'конечно,': 548,\n",
              " 'отключить': 549,\n",
              " 'сожалению,': 550,\n",
              " 'перевыпуск': 551,\n",
              " 'закладная': 552,\n",
              " 'мало': 553,\n",
              " 'выполнить': 554,\n",
              " 'сбой': 555,\n",
              " 'никак': 556,\n",
              " 'россия': 557,\n",
              " 'встреча': 558,\n",
              " 'пользование': 559,\n",
              " 'проходить': 560,\n",
              " 'зачислить': 561,\n",
              " 'начисление': 562,\n",
              " 'статус': 563,\n",
              " 'понять': 564,\n",
              " 'стоимость': 565,\n",
              " 'использование': 566,\n",
              " 'отправлять': 567,\n",
              " 'хорошо,': 568,\n",
              " 'обслуживаться': 569,\n",
              " 'купить': 570,\n",
              " 'регистрация': 571,\n",
              " 'сбербанка,': 572,\n",
              " 'ответили,': 573,\n",
              " 'абсолютно': 574,\n",
              " 'назвать': 575,\n",
              " 'равно': 576,\n",
              " 'зарегистрировать': 577,\n",
              " 'сумму,': 578,\n",
              " 'вариант': 579,\n",
              " 'подача': 580,\n",
              " 'проверка': 581,\n",
              " 'подавать': 582,\n",
              " 'оставлять': 583,\n",
              " 'подтвердить': 584,\n",
              " 'оперативно': 585,\n",
              " 'подписание': 586,\n",
              " 'выплата': 587,\n",
              " 'настоящий': 588,\n",
              " 'оказываться': 589,\n",
              " 'крайне': 590,\n",
              " 'произвести': 591,\n",
              " 'отличный': 592,\n",
              " 'карточка': 593,\n",
              " 'счета,': 594,\n",
              " 'переводить': 595,\n",
              " 'официальный': 596,\n",
              " 'вчера': 597,\n",
              " 'реквизит': 598,\n",
              " 'советовать': 599,\n",
              " 'собственный': 600,\n",
              " 'совершенно': 601,\n",
              " 'пополнение': 602,\n",
              " 'офис,': 603,\n",
              " 'досрочно': 604,\n",
              " 'знаю,': 605,\n",
              " 'правило': 606,\n",
              " 'назначить': 607,\n",
              " 'возникать': 608,\n",
              " 'использовать': 609,\n",
              " 'крупный': 610,\n",
              " 'выпустить': 611,\n",
              " 'доступ': 612,\n",
              " 'ввести': 613,\n",
              " 'думаю,': 614,\n",
              " 'остальной': 615,\n",
              " 'выпуск': 616,\n",
              " 'отдельный': 617,\n",
              " 'карте,': 618,\n",
              " 'льготный': 619,\n",
              " 'наличие': 620,\n",
              " 'искать': 621,\n",
              " 'оставаться': 622,\n",
              " 'необходимость': 623,\n",
              " 'зачисление': 624,\n",
              " 'баланс': 625,\n",
              " 'объяснять': 626,\n",
              " 'счет.': 627,\n",
              " 'московский': 628,\n",
              " 'продолжать': 629,\n",
              " 'плохой': 630,\n",
              " 'подождать': 631,\n",
              " 'срочно': 632,\n",
              " 'долгий': 633,\n",
              " 'пополнить': 634,\n",
              " 'уровень': 635,\n",
              " 'менее': 636,\n",
              " 'клиентов,': 637,\n",
              " 'доход': 638,\n",
              " 'подробно': 639,\n",
              " 'желать': 640,\n",
              " 'курс': 641,\n",
              " 'опыт': 642,\n",
              " 'небольшой': 643,\n",
              " 'сказать,': 644,\n",
              " 'защита': 645,\n",
              " 'совкомбанк': 646,\n",
              " 'обязательство': 647,\n",
              " 'занять': 648,\n",
              " 'предоставлять': 649,\n",
              " 'закрывать': 650,\n",
              " 'дня,': 651,\n",
              " 'контакт': 652,\n",
              " 'говорит,': 653,\n",
              " 'впечатление': 654,\n",
              " 'несмотря': 655,\n",
              " 'читать': 656,\n",
              " 'выбор': 657,\n",
              " 'минимальный': 658,\n",
              " 'процедура': 659,\n",
              " 'зарплата': 660,\n",
              " 'клиентов.': 661,\n",
              " 'попробовать': 662,\n",
              " 'лишний': 663,\n",
              " 'повторно': 664,\n",
              " 'заключить': 665,\n",
              " 'посещение': 666,\n",
              " 'администратор': 667,\n",
              " 'забыть': 668,\n",
              " 'телефонный': 669,\n",
              " 'управлять': 670,\n",
              " 'столкнуться': 671,\n",
              " 'товар': 672,\n",
              " 'ладно,': 673,\n",
              " 'навязать': 674,\n",
              " 'кредитка': 675,\n",
              " 'окончание': 676,\n",
              " 'отказываться': 677,\n",
              " 'куча': 678,\n",
              " 'минут,': 679,\n",
              " 'обязать': 680,\n",
              " 'молодой': 681,\n",
              " 'есть,': 682,\n",
              " 'отдать': 683,\n",
              " 'сообщила,': 684,\n",
              " 'платёжный': 685,\n",
              " 'хоум': 686,\n",
              " 'кассир': 687,\n",
              " 'сообщать': 688,\n",
              " 'недавно': 689,\n",
              " 'договора,': 690,\n",
              " 'ситуации,': 691,\n",
              " 'стоять': 692,\n",
              " 'получаться': 693,\n",
              " 'минус': 694,\n",
              " 'задать': 695,\n",
              " 'успеть': 696,\n",
              " 'предыдущий': 697,\n",
              " 'обязательно': 698,\n",
              " 'обслуживать': 699,\n",
              " 'месяц,': 700,\n",
              " 'озвучить': 701,\n",
              " 'подпись': 702,\n",
              " 'завтра': 703,\n",
              " 'быстро,': 704,\n",
              " 'немного': 705,\n",
              " 'собираться': 706,\n",
              " 'ставить': 707,\n",
              " 'попытаться': 708,\n",
              " 'нарушение': 709,\n",
              " 'заявку,': 710,\n",
              " 'время.': 711,\n",
              " 'знакомый': 712,\n",
              " 'планировать': 713,\n",
              " 'количество': 714,\n",
              " 'обратный': 715,\n",
              " 'активировать': 716,\n",
              " 'вопросы,': 717,\n",
              " 'сообщил,': 718,\n",
              " 'пожалуйста,': 719,\n",
              " 'особенно': 720,\n",
              " 'прошлый': 721,\n",
              " 'дня.': 722,\n",
              " 'платный': 723,\n",
              " 'соответствие': 724,\n",
              " 'анкета': 725,\n",
              " 'полис': 726,\n",
              " 'месяца,': 727,\n",
              " 'поблагодарить': 728,\n",
              " 'вместе': 729,\n",
              " 'карта,': 730,\n",
              " 'вновь': 731,\n",
              " 'практически': 732,\n",
              " 'обратить': 733,\n",
              " 'обычный': 734,\n",
              " 'ситуацию,': 735,\n",
              " 'проводить': 736,\n",
              " 'благодаря': 737,\n",
              " 'ходить': 738,\n",
              " 'соответствовать': 739,\n",
              " 'удобно': 740,\n",
              " 'нормальный': 741,\n",
              " 'состояние': 742,\n",
              " 'мама': 743,\n",
              " 'стандарт': 744,\n",
              " 'заранее': 745,\n",
              " 'список': 746,\n",
              " 'карте.': 747,\n",
              " 'интересный': 748,\n",
              " 'документов,': 749,\n",
              " 'нибыть': 750,\n",
              " 'ситуации.': 751,\n",
              " 'повторный': 752,\n",
              " 'способ': 753,\n",
              " 'разбираться': 754,\n",
              " 'удаться': 755,\n",
              " 'центр,': 756,\n",
              " 'счета.': 757,\n",
              " 'установить': 758,\n",
              " 'заходить': 759,\n",
              " 'кредитование': 760,\n",
              " 'возможный': 761,\n",
              " 'халва': 762,\n",
              " 'вечером': 763,\n",
              " 'откуда': 764,\n",
              " 'кэшбэк': 765,\n",
              " 'отменить': 766,\n",
              " 'денег,': 767,\n",
              " 'запросить': 768,\n",
              " 'лет.': 769,\n",
              " 'договор,': 770,\n",
              " 'база': 771,\n",
              " 'пять': 772,\n",
              " 'грамотный': 773,\n",
              " 'жить': 774,\n",
              " 'главное': 775,\n",
              " 'подтверждать': 776,\n",
              " 'относиться': 777,\n",
              " 'приша': 778,\n",
              " 'продажа': 779,\n",
              " 'неоднократно': 780,\n",
              " 'естественно': 781,\n",
              " 'изменить': 782,\n",
              " 'исправить': 783,\n",
              " 'связываться': 784,\n",
              " 'обязательный': 785,\n",
              " 'руб.,': 786,\n",
              " 'индивидуальный': 787,\n",
              " 'сегодняшний': 788,\n",
              " 'выплатить': 789,\n",
              " 'заключение': 790,\n",
              " 'закончиться': 791,\n",
              " 'получиться': 792,\n",
              " 'принести': 793,\n",
              " 'перевыпустить': 794,\n",
              " 'сотрудников,': 795,\n",
              " 'бизнес': 796,\n",
              " 'жена': 797,\n",
              " 'подключение': 798,\n",
              " 'т.д.': 799,\n",
              " 'невозможно': 800,\n",
              " 'ответила,': 801,\n",
              " 'судебный': 802,\n",
              " 'вина': 803,\n",
              " 'поменять': 804,\n",
              " 'окно': 805,\n",
              " 'конкретный': 806,\n",
              " 'телефону,': 807,\n",
              " 'лет,': 808,\n",
              " 'подходить': 809,\n",
              " 'втб,': 810,\n",
              " 'план': 811,\n",
              " 'сотрудничество': 812,\n",
              " 'средств,': 813,\n",
              " 'минут.': 814,\n",
              " 'компетентный': 815,\n",
              " 'росбанк': 816,\n",
              " 'послать': 817,\n",
              " 'итоге,': 818,\n",
              " 'основный': 819,\n",
              " 'клиента,': 820,\n",
              " 'обычно': 821,\n",
              " 'времени,': 822,\n",
              " 'довольно': 823,\n",
              " 'отделение.': 824,\n",
              " 'повышенный': 825,\n",
              " 'все,': 826,\n",
              " 'мера': 827,\n",
              " 'висеть': 828,\n",
              " 'помогать': 829,\n",
              " 'значит': 830,\n",
              " 'подумать': 831,\n",
              " 'супруг': 832,\n",
              " 'целое': 833,\n",
              " 'здравствуйте!': 834,\n",
              " 'внимательный': 835,\n",
              " 'иной': 836,\n",
              " 'списывать': 837,\n",
              " 'начисляться': 838,\n",
              " 'часто': 839,\n",
              " 'спасибо!': 840,\n",
              " 'курьер': 841,\n",
              " 'исполнение': 842,\n",
              " 'выражать': 843,\n",
              " 'проверять': 844,\n",
              " 'услышать': 845,\n",
              " 'платежа,': 846,\n",
              " 'протяжение': 847,\n",
              " 'вводить': 848,\n",
              " 'надеюсь,': 849,\n",
              " 'визит': 850,\n",
              " 'банков,': 851,\n",
              " 'сутки': 852,\n",
              " 'рамка': 853,\n",
              " 'сегодня,': 854,\n",
              " 'выяснить': 855,\n",
              " 'заёмщик': 856,\n",
              " 'показать': 857,\n",
              " 'понадобиться': 858,\n",
              " 'средств.': 859,\n",
              " 'польза': 860,\n",
              " 'предварительно': 861,\n",
              " 'балл': 862,\n",
              " 'менять': 863,\n",
              " 'пароль': 864,\n",
              " 'понравиться': 865,\n",
              " 'согласиться': 866,\n",
              " 'депозит': 867,\n",
              " 'понятно': 868,\n",
              " 'проспект': 869,\n",
              " 'рассматривать': 870,\n",
              " 'приезжать': 871,\n",
              " 'центральный': 872,\n",
              " 'пригласить': 873,\n",
              " 'информацию,': 874,\n",
              " 'утро': 875,\n",
              " 'объяснение': 876,\n",
              " 'соответственно': 877,\n",
              " 'профессиональный': 878,\n",
              " 'реклама': 879,\n",
              " 'посетить': 880,\n",
              " 'сильно': 881,\n",
              " 'пусть': 882,\n",
              " 'сбербанка.': 883,\n",
              " 'внутренний': 884,\n",
              " 'распечатать': 885,\n",
              " 'бумага': 886,\n",
              " 'проведение': 887,\n",
              " 'visa': 888,\n",
              " 'запись': 889,\n",
              " 'клиентский': 890,\n",
              " 'ничто': 891,\n",
              " 'очереди,': 892,\n",
              " 'ужасный': 893,\n",
              " 'купюра': 894,\n",
              " 'месяц.': 895,\n",
              " 'информирование': 896,\n",
              " 'доп.': 897,\n",
              " 'открытый': 898,\n",
              " 'создать': 899,\n",
              " 'санкт': 900,\n",
              " 'раз.': 901,\n",
              " 'неприятный': 902,\n",
              " 'разговаривать': 903,\n",
              " 'считаю,': 904,\n",
              " 'доставка': 905,\n",
              " 'обнаружить': 906,\n",
              " 'месяца.': 907,\n",
              " 'специально': 908,\n",
              " 'профессионализм': 909,\n",
              " 'подход': 910,\n",
              " 'смена': 911,\n",
              " 'негативный': 912,\n",
              " 'оказывается,': 913,\n",
              " 'видимо,': 914,\n",
              " 'дождаться': 915,\n",
              " 'перестать': 916,\n",
              " 'совершать': 917,\n",
              " 'исполнительный': 918,\n",
              " 'расчёт': 919,\n",
              " 'улица': 920,\n",
              " 'клиентам.': 921,\n",
              " 'вовремя': 922,\n",
              " 'иначе': 923,\n",
              " 'выполнять': 924,\n",
              " 'юридический': 925,\n",
              " 'безопасность': 926,\n",
              " 'уточнять': 927,\n",
              " 'вход': 928,\n",
              " 'ссылка': 929,\n",
              " 'буквально': 930,\n",
              " 'доступный': 931,\n",
              " 'столько': 932,\n",
              " 'изначально': 933,\n",
              " 'списаться': 934,\n",
              " 'заявление.': 935,\n",
              " 'трубка': 936,\n",
              " 'описать': 937,\n",
              " 'минимум': 938,\n",
              " 'отделения,': 939,\n",
              " 'обработка': 940,\n",
              " 'плач': 941,\n",
              " 'проблемы.': 942,\n",
              " 'доставить': 943,\n",
              " 'спасибо.': 944,\n",
              " 'кстати,': 945,\n",
              " 'блокировка': 946,\n",
              " 'честно': 947,\n",
              " 'многий': 948,\n",
              " 'целый': 949,\n",
              " 'учёт': 950,\n",
              " 'сила': 951,\n",
              " 'фамилия': 952,\n",
              " 'обратно': 953,\n",
              " 'выше': 954,\n",
              " 'естественно,': 955,\n",
              " 'наличные': 956,\n",
              " 'оперативный': 957,\n",
              " 'требоваться': 958,\n",
              " 'отвратительный': 959,\n",
              " 'клиента.': 960,\n",
              " 'нигде': 961,\n",
              " 'привязать': 962,\n",
              " 'уведомить': 963,\n",
              " 'слышать': 964,\n",
              " 'выходной': 965,\n",
              " 'взыскание': 966,\n",
              " 'вести': 967,\n",
              " 'вопросы.': 968,\n",
              " 'списываться': 969,\n",
              " 'полтора': 970,\n",
              " 'интересовать': 971,\n",
              " 'вывод': 972,\n",
              " 'кредиту,': 973,\n",
              " 'банка!': 974,\n",
              " 'ссылаться': 975,\n",
              " 'скорее': 976,\n",
              " 'картой,': 977,\n",
              " 'образом,': 978,\n",
              " 'проблемы,': 979,\n",
              " 'восточный': 980,\n",
              " 'получается,': 981,\n",
              " 'ребёнок': 982,\n",
              " 'чётко': 983,\n",
              " 'прямо': 984,\n",
              " 'перечислить': 985,\n",
              " 'вклад,': 986,\n",
              " 'принцип': 987,\n",
              " 'мнение': 988,\n",
              " 'качественный': 989,\n",
              " 'называть': 990,\n",
              " 'главный': 991,\n",
              " 'обман': 992,\n",
              " 'подписывать': 993,\n",
              " 'правда': 994,\n",
              " 'валюта': 995,\n",
              " 'доверенность': 996,\n",
              " 'документы.': 997,\n",
              " 'заказ': 998,\n",
              " 'правильно': 999,\n",
              " 'обременение': 1000,\n",
              " ...}"
            ]
          },
          "metadata": {},
          "execution_count": 25
        }
      ]
    },
    {
      "cell_type": "markdown",
      "source": [
        "Преобразуем в числовое представление"
      ],
      "metadata": {
        "id": "ptu8r_fum1tI"
      }
    },
    {
      "cell_type": "code",
      "source": [
        "sequences = tokenizer.texts_to_sequences(text)"
      ],
      "metadata": {
        "id": "NdFpLOWnnHdq"
      },
      "execution_count": 26,
      "outputs": []
    },
    {
      "cell_type": "code",
      "source": [
        "index = 2\n",
        "print(news[index])\n",
        "print(sequences[index])"
      ],
      "metadata": {
        "colab": {
          "base_uri": "https://localhost:8080/"
        },
        "id": "yhQas2OsnLUL",
        "outputId": "415de215-eef9-448b-de32-bcfe79bd7b0d"
      },
      "execution_count": 27,
      "outputs": [
        {
          "output_type": "stream",
          "name": "stdout",
          "text": [
            "добрый день.сегодня около банкомат адрес рязанский пр.д. корп разный разности) вносить деньга счёт дебетовый карта рублей) банкомат деньга принял, начать жужжать, пересчитывать деньга думать выдать ошибка написать ошибка, ждать возврат принять купюра усиленно думать жужжать время появиться обычный меню. вернуть карту.позвонить контакт центр оставить обращение сообщить номер банкомат время, дать местонахождение банкомата. обещать течение день разобраться. хотеться разобраться значит ответить обращение? день иметь неосторожность запихать банкомат иметься денежный средства.просить разобраться вернуть денежный средство который ушли, карточка дойти застрять банкомате.\n",
            "[90, 254, 72, 129, 7274, 294, 437, 7, 16, 138, 2, 3733, 72, 7, 3983, 230, 4662, 7, 322, 117, 228, 34, 1980, 81, 211, 118, 894, 322, 19, 457, 734, 127, 652, 130, 171, 48, 196, 33, 72, 406, 21, 8584, 3643, 278, 69, 10, 2810, 220, 224, 830, 132, 10, 99, 5673, 72, 534, 84, 224, 127, 84, 44, 3, 6307, 593, 1184, 4932, 3009]\n"
          ]
        }
      ]
    },
    {
      "cell_type": "markdown",
      "source": [
        "Ограничиваем длину"
      ],
      "metadata": {
        "id": "_IPl_fRtnSZe"
      }
    },
    {
      "cell_type": "code",
      "source": [
        "x_train = pad_sequences(sequences, maxlen=max_news_len)"
      ],
      "metadata": {
        "id": "WEfwGw8LnQOb"
      },
      "execution_count": 29,
      "outputs": []
    },
    {
      "cell_type": "code",
      "source": [
        "x_train[:5]"
      ],
      "metadata": {
        "colab": {
          "base_uri": "https://localhost:8080/"
        },
        "id": "wvTKxOmhnWde",
        "outputId": "fa932418-b609-47b4-e88a-f4e3b16e9efc"
      },
      "execution_count": 30,
      "outputs": [
        {
          "output_type": "execute_result",
          "data": {
            "text/plain": [
              "array([[   0,    0,    0, ...,   64,  115, 9498],\n",
              "       [   0,    0,    0, ...,  421, 1440, 5835],\n",
              "       [   0,    0,    0, ..., 1184, 4932, 3009],\n",
              "       [   0,    0,    0, ..., 1157,  151, 4769],\n",
              "       [   0,    0,    0, ...,  172, 2749,  921]], dtype=int32)"
            ]
          },
          "metadata": {},
          "execution_count": 30
        }
      ]
    },
    {
      "cell_type": "markdown",
      "source": [
        "### Метрика"
      ],
      "metadata": {
        "id": "RDZccPEZHF7O"
      }
    },
    {
      "cell_type": "markdown",
      "source": [
        "Чтобы обучать на F1 реализуем эту метрику\n",
        "\n"
      ],
      "metadata": {
        "id": "Hp_Z6FOuqK1a"
      }
    },
    {
      "cell_type": "code",
      "source": [
        "def f1(y_true, y_pred):\n",
        "    def recall(y_true, y_pred):\n",
        "        true_positives = K.sum(K.round(K.clip(y_true * y_pred, 0, 1)))\n",
        "        possible_positives = K.sum(K.round(K.clip(y_true, 0, 1)))\n",
        "        recall = true_positives / (possible_positives + K.epsilon())\n",
        "        return recall\n",
        "\n",
        "    def precision(y_true, y_pred):\n",
        "        true_positives = K.sum(K.round(K.clip(y_true * y_pred, 0, 1)))\n",
        "        predicted_positives = K.sum(K.round(K.clip(y_pred, 0, 1)))\n",
        "        precision = true_positives / (predicted_positives + K.epsilon())\n",
        "        return precision\n",
        "    precision = precision(y_true, y_pred)\n",
        "    recall = recall(y_true, y_pred)\n",
        "    \n",
        "    return 2*((precision*recall)/(precision+recall+K.epsilon()))"
      ],
      "metadata": {
        "id": "pgkTjcuLAUIE"
      },
      "execution_count": 32,
      "outputs": []
    },
    {
      "cell_type": "markdown",
      "source": [
        "### Свёрточная нейросеть"
      ],
      "metadata": {
        "id": "9XrTwDtwndrH"
      }
    },
    {
      "cell_type": "code",
      "source": [
        "model_cnn = Sequential()\n",
        "model_cnn.add(Embedding(num_words, 32, input_length=max_news_len))\n",
        "model_cnn.add(Conv1D(250, 5, padding='valid', activation='relu'))\n",
        "model_cnn.add(GlobalMaxPooling1D())\n",
        "model_cnn.add(Dense(128, activation='relu'))\n",
        "model_cnn.add(Dense(5, activation='softmax'))"
      ],
      "metadata": {
        "id": "I5pEuNAmnhKo"
      },
      "execution_count": 31,
      "outputs": []
    },
    {
      "cell_type": "code",
      "source": [
        "model_cnn.compile(optimizer='adam', \n",
        "              loss='categorical_crossentropy', \n",
        "              metrics=[f1])"
      ],
      "metadata": {
        "id": "NcOTRWVknkLT"
      },
      "execution_count": 33,
      "outputs": []
    },
    {
      "cell_type": "code",
      "source": [
        "model_cnn.summary()"
      ],
      "metadata": {
        "colab": {
          "base_uri": "https://localhost:8080/"
        },
        "id": "BvrZ50kuoKV8",
        "outputId": "81ae73d4-4b6f-4242-8c86-052c736f9d2f"
      },
      "execution_count": 34,
      "outputs": [
        {
          "output_type": "stream",
          "name": "stdout",
          "text": [
            "Model: \"sequential\"\n",
            "_________________________________________________________________\n",
            " Layer (type)                Output Shape              Param #   \n",
            "=================================================================\n",
            " embedding (Embedding)       (None, 1000, 32)          320000    \n",
            "                                                                 \n",
            " conv1d (Conv1D)             (None, 996, 250)          40250     \n",
            "                                                                 \n",
            " global_max_pooling1d (Globa  (None, 250)              0         \n",
            " lMaxPooling1D)                                                  \n",
            "                                                                 \n",
            " dense (Dense)               (None, 128)               32128     \n",
            "                                                                 \n",
            " dense_1 (Dense)             (None, 5)                 645       \n",
            "                                                                 \n",
            "=================================================================\n",
            "Total params: 393,023\n",
            "Trainable params: 393,023\n",
            "Non-trainable params: 0\n",
            "_________________________________________________________________\n"
          ]
        }
      ]
    },
    {
      "cell_type": "code",
      "source": [
        "model_cnn_save_path = 'best_model_cnn.h5'\n",
        "checkpoint_callback_cnn = ModelCheckpoint(model_cnn_save_path, \n",
        "                                      monitor='val_f1',\n",
        "                                      save_best_only=True,\n",
        "                                      verbose=1)"
      ],
      "metadata": {
        "id": "_t0aNByNoOvP"
      },
      "execution_count": 35,
      "outputs": []
    },
    {
      "cell_type": "code",
      "source": [
        "history_cnn = model_cnn.fit(x_train, \n",
        "                            y_train, \n",
        "                            epochs=5,\n",
        "                            batch_size=128,\n",
        "                            validation_split=0.1,\n",
        "                            callbacks=[checkpoint_callback_cnn])"
      ],
      "metadata": {
        "colab": {
          "base_uri": "https://localhost:8080/"
        },
        "id": "GFqI87SIoUdP",
        "outputId": "c4ca3adc-138c-45d3-fe75-b6f58f5b6df4"
      },
      "execution_count": 36,
      "outputs": [
        {
          "output_type": "stream",
          "name": "stdout",
          "text": [
            "Epoch 1/5\n",
            "1690/1690 [==============================] - ETA: 0s - loss: 0.6959 - f1: 0.7671\n",
            "Epoch 1: val_f1 improved from inf to 0.79003, saving model to best_model_cnn.h5\n",
            "1690/1690 [==============================] - 56s 28ms/step - loss: 0.6959 - f1: 0.7671 - val_loss: 0.6400 - val_f1: 0.7900\n",
            "Epoch 2/5\n",
            "1689/1690 [============================>.] - ETA: 0s - loss: 0.6034 - f1: 0.7975\n",
            "Epoch 2: val_f1 did not improve from 0.79003\n",
            "1690/1690 [==============================] - 48s 28ms/step - loss: 0.6034 - f1: 0.7975 - val_loss: 0.6374 - val_f1: 0.7910\n",
            "Epoch 3/5\n",
            "1689/1690 [============================>.] - ETA: 0s - loss: 0.5559 - f1: 0.8075\n",
            "Epoch 3: val_f1 improved from 0.79003 to 0.78451, saving model to best_model_cnn.h5\n",
            "1690/1690 [==============================] - 48s 28ms/step - loss: 0.5559 - f1: 0.8075 - val_loss: 0.6593 - val_f1: 0.7845\n",
            "Epoch 4/5\n",
            "1689/1690 [============================>.] - ETA: 0s - loss: 0.5018 - f1: 0.8195\n",
            "Epoch 4: val_f1 did not improve from 0.78451\n",
            "1690/1690 [==============================] - 47s 28ms/step - loss: 0.5018 - f1: 0.8195 - val_loss: 0.7012 - val_f1: 0.7846\n",
            "Epoch 5/5\n",
            "1689/1690 [============================>.] - ETA: 0s - loss: 0.4343 - f1: 0.8377\n",
            "Epoch 5: val_f1 improved from 0.78451 to 0.77359, saving model to best_model_cnn.h5\n",
            "1690/1690 [==============================] - 47s 28ms/step - loss: 0.4343 - f1: 0.8377 - val_loss: 0.7699 - val_f1: 0.7736\n"
          ]
        }
      ]
    },
    {
      "cell_type": "code",
      "source": [
        "plt.plot(history_cnn.history['f1'], \n",
        "         label='Доля верных ответов на обучающем наборе')\n",
        "plt.plot(history_cnn.history['val_f1'], \n",
        "         label='Доля верных ответов на проверочном наборе')\n",
        "plt.xlabel('Эпоха обучения')\n",
        "plt.ylabel('Доля верных ответов')\n",
        "plt.legend()\n",
        "plt.show()"
      ],
      "metadata": {
        "colab": {
          "base_uri": "https://localhost:8080/",
          "height": 280
        },
        "id": "x5BGuI1WofSW",
        "outputId": "ba96ddc6-9e60-4400-cf94-4123937229fc"
      },
      "execution_count": 37,
      "outputs": [
        {
          "output_type": "display_data",
          "data": {
            "text/plain": [
              "<Figure size 432x288 with 1 Axes>"
            ],
            "image/png": "[encoded data removed]"
          },
          "metadata": {
            "needs_background": "light"
          }
        }
      ]
    },
    {
      "cell_type": "markdown",
      "source": [],
      "metadata": {
        "id": "VpJkoSL_qfba"
      }
    },
    {
      "cell_type": "markdown",
      "metadata": {
        "id": "VFUTMuKL8SNY"
      },
      "source": [
        "### Cеть LSTM"
      ]
    },
    {
      "cell_type": "code",
      "metadata": {
        "id": "s_ZqIgqS8SNa"
      },
      "source": [
        "model_lstm = Sequential()\n",
        "model_lstm.add(Embedding(num_words, 32, input_length=max_news_len))\n",
        "model_lstm.add(LSTM(16))\n",
        "model_lstm.add(Dense(5, activation='softmax'))"
      ],
      "execution_count": 38,
      "outputs": []
    },
    {
      "cell_type": "code",
      "metadata": {
        "id": "IoxJ8kNf8SNc"
      },
      "source": [
        "model_lstm.compile(optimizer='adam', \n",
        "              loss='categorical_crossentropy', \n",
        "              metrics=[f1])"
      ],
      "execution_count": 39,
      "outputs": []
    },
    {
      "cell_type": "code",
      "metadata": {
        "outputId": "a960b9ad-9fd9-4cea-bc64-f18bd2808453",
        "id": "KNc2OK3j8SNe",
        "colab": {
          "base_uri": "https://localhost:8080/"
        }
      },
      "source": [
        "model_lstm.summary()"
      ],
      "execution_count": 40,
      "outputs": [
        {
          "output_type": "stream",
          "name": "stdout",
          "text": [
            "Model: \"sequential_1\"\n",
            "_________________________________________________________________\n",
            " Layer (type)                Output Shape              Param #   \n",
            "=================================================================\n",
            " embedding_1 (Embedding)     (None, 1000, 32)          320000    \n",
            "                                                                 \n",
            " lstm (LSTM)                 (None, 16)                3136      \n",
            "                                                                 \n",
            " dense_2 (Dense)             (None, 5)                 85        \n",
            "                                                                 \n",
            "=================================================================\n",
            "Total params: 323,221\n",
            "Trainable params: 323,221\n",
            "Non-trainable params: 0\n",
            "_________________________________________________________________\n"
          ]
        }
      ]
    },
    {
      "cell_type": "markdown",
      "metadata": {
        "id": "KzJtvcIa8SNh"
      },
      "source": [
        "Создаем callback для сохранения нейронной сети на каждой эпохе, если качество работы на проверочном наборе данных улучшилось. Сеть сохраняется в файл `best_model.h5`"
      ]
    },
    {
      "cell_type": "code",
      "metadata": {
        "id": "qCu0Xlyj8SNi"
      },
      "source": [
        "model_lstm_save_path = 'best_model_lstm.h5'\n",
        "checkpoint_callback_lstm = ModelCheckpoint(model_lstm_save_path, \n",
        "                                      monitor='val_f1',\n",
        "                                      save_best_only=True,\n",
        "                                      verbose=1)"
      ],
      "execution_count": 41,
      "outputs": []
    },
    {
      "cell_type": "code",
      "metadata": {
        "outputId": "d215b9e4-d9c5-4dfd-9d5a-9240be431bbd",
        "id": "znNeO0lO8SNk",
        "colab": {
          "base_uri": "https://localhost:8080/"
        }
      },
      "source": [
        "history_lstm = model_lstm.fit(x_train, \n",
        "                              y_train, \n",
        "                              epochs=5,\n",
        "                              batch_size=128,\n",
        "                              validation_split=0.1,\n",
        "                              callbacks=[checkpoint_callback_lstm])"
      ],
      "execution_count": 42,
      "outputs": [
        {
          "output_type": "stream",
          "name": "stdout",
          "text": [
            "Epoch 1/5\n",
            "1690/1690 [==============================] - ETA: 0s - loss: 0.7140 - f1: 0.7606\n",
            "Epoch 1: val_f1 improved from inf to 0.78792, saving model to best_model_lstm.h5\n",
            "1690/1690 [==============================] - 62s 35ms/step - loss: 0.7140 - f1: 0.7606 - val_loss: 0.6512 - val_f1: 0.7879\n",
            "Epoch 2/5\n",
            "1690/1690 [==============================] - ETA: 0s - loss: 0.6270 - f1: 0.7932\n",
            "Epoch 2: val_f1 did not improve from 0.78792\n",
            "1690/1690 [==============================] - 57s 34ms/step - loss: 0.6270 - f1: 0.7932 - val_loss: 0.6446 - val_f1: 0.7892\n",
            "Epoch 3/5\n",
            "1689/1690 [============================>.] - ETA: 0s - loss: 0.6021 - f1: 0.7978\n",
            "Epoch 3: val_f1 improved from 0.78792 to 0.78685, saving model to best_model_lstm.h5\n",
            "1690/1690 [==============================] - 57s 34ms/step - loss: 0.6022 - f1: 0.7978 - val_loss: 0.6431 - val_f1: 0.7869\n",
            "Epoch 4/5\n",
            "1689/1690 [============================>.] - ETA: 0s - loss: 0.5798 - f1: 0.8014\n",
            "Epoch 4: val_f1 improved from 0.78685 to 0.78671, saving model to best_model_lstm.h5\n",
            "1690/1690 [==============================] - 57s 34ms/step - loss: 0.5798 - f1: 0.8014 - val_loss: 0.6440 - val_f1: 0.7867\n",
            "Epoch 5/5\n",
            "1690/1690 [==============================] - ETA: 0s - loss: 0.5587 - f1: 0.8051\n",
            "Epoch 5: val_f1 improved from 0.78671 to 0.78668, saving model to best_model_lstm.h5\n",
            "1690/1690 [==============================] - 57s 34ms/step - loss: 0.5587 - f1: 0.8051 - val_loss: 0.6570 - val_f1: 0.7867\n"
          ]
        }
      ]
    },
    {
      "cell_type": "code",
      "metadata": {
        "outputId": "8b578d9c-c5ee-42e6-e5e1-bb1b878c2440",
        "id": "iFTVTtcM8SNm",
        "colab": {
          "base_uri": "https://localhost:8080/",
          "height": 279
        }
      },
      "source": [
        "plt.plot(history_lstm.history['f1'], \n",
        "         label='Доля верных ответов на обучающем наборе')\n",
        "plt.plot(history_lstm.history['val_f1'], \n",
        "         label='Доля верных ответов на проверочном наборе')\n",
        "plt.xlabel('Эпоха обучения')\n",
        "plt.ylabel('Доля верных ответов')\n",
        "plt.legend()\n",
        "plt.show()"
      ],
      "execution_count": 43,
      "outputs": [
        {
          "output_type": "display_data",
          "data": {
            "text/plain": [
              "<Figure size 432x288 with 1 Axes>"
            ],
            "image/png": "[encoded data removed]"
          },
          "metadata": {
            "needs_background": "light"
          }
        }
      ]
    },
    {
      "cell_type": "markdown",
      "source": [
        "### Сеть GRU"
      ],
      "metadata": {
        "id": "m1FO9_3Ho36Z"
      }
    },
    {
      "cell_type": "code",
      "source": [
        "model_gru = Sequential()\n",
        "model_gru.add(Embedding(num_words, 32, input_length=max_news_len))\n",
        "model_gru.add(GRU(16))\n",
        "model_gru.add(Dense(5, activation='softmax'))"
      ],
      "metadata": {
        "id": "IMG_7f-Fo5sk"
      },
      "execution_count": 44,
      "outputs": []
    },
    {
      "cell_type": "code",
      "source": [
        "model_gru.compile(optimizer='adam', \n",
        "              loss='categorical_crossentropy', \n",
        "              metrics=[f1])"
      ],
      "metadata": {
        "id": "EaW_g2Wko-pL"
      },
      "execution_count": 45,
      "outputs": []
    },
    {
      "cell_type": "code",
      "source": [
        "model_gru.summary()"
      ],
      "metadata": {
        "colab": {
          "base_uri": "https://localhost:8080/"
        },
        "id": "b3t0OIZApAEw",
        "outputId": "108a8f0c-d010-4592-ee61-2511226f941a"
      },
      "execution_count": 46,
      "outputs": [
        {
          "output_type": "stream",
          "name": "stdout",
          "text": [
            "Model: \"sequential_2\"\n",
            "_________________________________________________________________\n",
            " Layer (type)                Output Shape              Param #   \n",
            "=================================================================\n",
            " embedding_2 (Embedding)     (None, 1000, 32)          320000    \n",
            "                                                                 \n",
            " gru (GRU)                   (None, 16)                2400      \n",
            "                                                                 \n",
            " dense_3 (Dense)             (None, 5)                 85        \n",
            "                                                                 \n",
            "=================================================================\n",
            "Total params: 322,485\n",
            "Trainable params: 322,485\n",
            "Non-trainable params: 0\n",
            "_________________________________________________________________\n"
          ]
        }
      ]
    },
    {
      "cell_type": "code",
      "source": [
        "model_gru_save_path = 'best_model_gru.h5'\n",
        "checkpoint_callback_gru = ModelCheckpoint(model_gru_save_path, \n",
        "                                      monitor='val_f1',\n",
        "                                      save_best_only=True,\n",
        "                                      verbose=1)"
      ],
      "metadata": {
        "id": "dnVFatBHpDoT"
      },
      "execution_count": 47,
      "outputs": []
    },
    {
      "cell_type": "code",
      "source": [
        "history_gru = model_gru.fit(x_train, \n",
        "                              y_train, \n",
        "                              epochs=5,\n",
        "                              batch_size=128,\n",
        "                              validation_split=0.1,\n",
        "                              callbacks=[checkpoint_callback_gru])"
      ],
      "metadata": {
        "colab": {
          "base_uri": "https://localhost:8080/"
        },
        "id": "n94v9XTapFoA",
        "outputId": "096f6c36-826b-474e-d213-63740a0301bb"
      },
      "execution_count": 48,
      "outputs": [
        {
          "output_type": "stream",
          "name": "stdout",
          "text": [
            "Epoch 1/5\n",
            "1690/1690 [==============================] - ETA: 0s - loss: 0.7226 - f1: 0.7455\n",
            "Epoch 1: val_f1 improved from inf to 0.78813, saving model to best_model_gru.h5\n",
            "1690/1690 [==============================] - 64s 37ms/step - loss: 0.7226 - f1: 0.7455 - val_loss: 0.6493 - val_f1: 0.7881\n",
            "Epoch 2/5\n",
            "1690/1690 [==============================] - ETA: 0s - loss: 0.6237 - f1: 0.7946\n",
            "Epoch 2: val_f1 did not improve from 0.78813\n",
            "1690/1690 [==============================] - 57s 34ms/step - loss: 0.6237 - f1: 0.7946 - val_loss: 0.6425 - val_f1: 0.7896\n",
            "Epoch 3/5\n",
            "1689/1690 [============================>.] - ETA: 0s - loss: 0.6041 - f1: 0.7980\n",
            "Epoch 3: val_f1 did not improve from 0.78813\n",
            "1690/1690 [==============================] - 55s 33ms/step - loss: 0.6041 - f1: 0.7980 - val_loss: 0.6400 - val_f1: 0.7893\n",
            "Epoch 4/5\n",
            "1689/1690 [============================>.] - ETA: 0s - loss: 0.5854 - f1: 0.8015\n",
            "Epoch 4: val_f1 did not improve from 0.78813\n",
            "1690/1690 [==============================] - 54s 32ms/step - loss: 0.5854 - f1: 0.8016 - val_loss: 0.6421 - val_f1: 0.7891\n",
            "Epoch 5/5\n",
            "1689/1690 [============================>.] - ETA: 0s - loss: 0.5657 - f1: 0.8053\n",
            "Epoch 5: val_f1 improved from 0.78813 to 0.78787, saving model to best_model_gru.h5\n",
            "1690/1690 [==============================] - 54s 32ms/step - loss: 0.5657 - f1: 0.8053 - val_loss: 0.6458 - val_f1: 0.7879\n"
          ]
        }
      ]
    },
    {
      "cell_type": "code",
      "source": [
        "plt.plot(history_gru.history['f1'], \n",
        "         label='Доля верных ответов на обучающем наборе')\n",
        "plt.plot(history_gru.history['val_f1'], \n",
        "         label='Доля верных ответов на проверочном наборе')\n",
        "plt.xlabel('Эпоха обучения')\n",
        "plt.ylabel('Доля верных ответов')\n",
        "plt.legend()\n",
        "plt.show()"
      ],
      "metadata": {
        "colab": {
          "base_uri": "https://localhost:8080/",
          "height": 279
        },
        "id": "zd-9X448pQra",
        "outputId": "5df3a362-5d74-4a9d-8d98-92e30aa21bf9"
      },
      "execution_count": 49,
      "outputs": [
        {
          "output_type": "display_data",
          "data": {
            "text/plain": [
              "<Figure size 432x288 with 1 Axes>"
            ],
            "image/png": "[encoded data removed]"
          },
          "metadata": {
            "needs_background": "light"
          }
        }
      ]
    },
    {
      "cell_type": "markdown",
      "source": [
        "## Тестирование"
      ],
      "metadata": {
        "id": "hn3oqhF1pVNX"
      }
    },
    {
      "cell_type": "code",
      "source": [
        "test_sequences = tokenizer.texts_to_sequences(valid['feeds'])"
      ],
      "metadata": {
        "id": "wyAysi9dpWel"
      },
      "execution_count": null,
      "outputs": []
    },
    {
      "cell_type": "code",
      "source": [
        "x_test = pad_sequences(test_sequences, maxlen=max_news_len)\n",
        "x_test[:5]"
      ],
      "metadata": {
        "colab": {
          "base_uri": "https://localhost:8080/"
        },
        "id": "grclLkJqpg_B",
        "outputId": "9ecd0279-8181-4388-cae2-9df7a26b1216"
      },
      "execution_count": null,
      "outputs": [
        {
          "output_type": "execute_result",
          "data": {
            "text/plain": [
              "array([[   0,    0,    0, ...,  236,    1, 1800],\n",
              "       [   0,    0,    0, ...,    1, 4777,  215],\n",
              "       [   0,    0,    0, ...,   20,    3,  464],\n",
              "       [   0,    0,    0, ...,    8, 1063,  748],\n",
              "       [   0,    0,    0, ..., 3217,  283, 9226]], dtype=int32)"
            ]
          },
          "metadata": {},
          "execution_count": 60
        }
      ]
    },
    {
      "cell_type": "code",
      "source": [
        "y_test = utils.to_categorical(valid['grades'] - 1, nb_classes)\n",
        "y_test"
      ],
      "metadata": {
        "colab": {
          "base_uri": "https://localhost:8080/"
        },
        "id": "fu979RDlpmru",
        "outputId": "9da43b8f-e011-4f14-a973-c487654710e6"
      },
      "execution_count": null,
      "outputs": [
        {
          "output_type": "execute_result",
          "data": {
            "text/plain": [
              "array([[1., 0., 0., 0., 0.],\n",
              "       [1., 0., 0., 0., 0.],\n",
              "       [1., 0., 0., 0., 0.],\n",
              "       ...,\n",
              "       [1., 0., 0., 0., 0.],\n",
              "       [1., 0., 0., 0., 0.],\n",
              "       [1., 0., 0., 0., 0.]], dtype=float32)"
            ]
          },
          "metadata": {},
          "execution_count": 61
        }
      ]
    },
    {
      "cell_type": "markdown",
      "source": [
        "### Одномерная свёрточная сеть"
      ],
      "metadata": {
        "id": "sHxbrFWDpyFq"
      }
    },
    {
      "cell_type": "code",
      "source": [
        "model_cnn.load_weights(model_cnn_save_path)"
      ],
      "metadata": {
        "id": "62tXhXeKpo7V"
      },
      "execution_count": null,
      "outputs": []
    },
    {
      "cell_type": "code",
      "source": [
        "model_cnn.evaluate(x_test, y_test, verbose=1)"
      ],
      "metadata": {
        "colab": {
          "base_uri": "https://localhost:8080/"
        },
        "id": "A0ffvznkp2ar",
        "outputId": "7af34383-6e56-49d3-a788-48717755301e"
      },
      "execution_count": null,
      "outputs": [
        {
          "output_type": "stream",
          "name": "stdout",
          "text": [
            "1877/1877 [==============================] - 9s 5ms/step - loss: 0.7632 - f1: 0.7814\n"
          ]
        },
        {
          "output_type": "execute_result",
          "data": {
            "text/plain": [
              "[0.7631576657295227, 0.7813660502433777]"
            ]
          },
          "metadata": {},
          "execution_count": 63
        }
      ]
    },
    {
      "cell_type": "markdown",
      "source": [
        "### Сеть LSTM"
      ],
      "metadata": {
        "id": "nhUUXAWlp5z4"
      }
    },
    {
      "cell_type": "code",
      "source": [
        "model_lstm.load_weights(model_lstm_save_path)"
      ],
      "metadata": {
        "id": "Xt7tAms6qCk2"
      },
      "execution_count": null,
      "outputs": []
    },
    {
      "cell_type": "code",
      "source": [
        "model_lstm.evaluate(x_test, y_test, verbose=1)"
      ],
      "metadata": {
        "colab": {
          "base_uri": "https://localhost:8080/"
        },
        "id": "5ZsTmKcqqIYl",
        "outputId": "130d4cdf-afcc-47b6-ac93-0086654b9077"
      },
      "execution_count": null,
      "outputs": [
        {
          "output_type": "stream",
          "name": "stdout",
          "text": [
            "1877/1877 [==============================] - 28s 15ms/step - loss: 0.6417 - f1: 0.7905\n"
          ]
        },
        {
          "output_type": "execute_result",
          "data": {
            "text/plain": [
              "[0.6416573524475098, 0.7905296683311462]"
            ]
          },
          "metadata": {},
          "execution_count": 65
        }
      ]
    },
    {
      "cell_type": "markdown",
      "source": [
        "### Сеть GRU"
      ],
      "metadata": {
        "id": "WmL9vAU5qJc0"
      }
    },
    {
      "cell_type": "code",
      "source": [
        "model_gru.load_weights(model_gru_save_path)"
      ],
      "metadata": {
        "id": "Uw_5hMIqqL_d"
      },
      "execution_count": null,
      "outputs": []
    },
    {
      "cell_type": "code",
      "source": [
        "model_gru.evaluate(x_test, y_test, verbose=1)"
      ],
      "metadata": {
        "colab": {
          "base_uri": "https://localhost:8080/"
        },
        "id": "pkuu9ctNqNnP",
        "outputId": "8ac5262f-e59f-476c-b044-8d264ad36753"
      },
      "execution_count": null,
      "outputs": [
        {
          "output_type": "stream",
          "name": "stdout",
          "text": [
            "1877/1877 [==============================] - 28s 15ms/step - loss: 0.6404 - f1: 0.7897\n"
          ]
        },
        {
          "output_type": "execute_result",
          "data": {
            "text/plain": [
              "[0.6404411792755127, 0.789726972579956]"
            ]
          },
          "metadata": {},
          "execution_count": 67
        }
      ]
    },
    {
      "cell_type": "markdown",
      "source": [],
      "metadata": {
        "id": "QPKIYml3FByZ"
      }
    },
    {
      "cell_type": "markdown",
      "source": [
        "## Сохранение результата"
      ],
      "metadata": {
        "id": "tp_4AO32FB4X"
      }
    },
    {
      "cell_type": "code",
      "source": [
        "final_sequences = tokenizer.texts_to_sequences(test['lemmas'])"
      ],
      "metadata": {
        "id": "LDx5xr6NFB4X"
      },
      "execution_count": 50,
      "outputs": []
    },
    {
      "cell_type": "code",
      "source": [
        "x_final = pad_sequences(final_sequences, maxlen=max_news_len)\n",
        "x_final[:5]"
      ],
      "metadata": {
        "colab": {
          "base_uri": "https://localhost:8080/"
        },
        "outputId": "4c1565b5-2f9e-4795-e6c7-b725ffeb12b3",
        "id": "soqCC1KTFB4Y"
      },
      "execution_count": 51,
      "outputs": [
        {
          "output_type": "execute_result",
          "data": {
            "text/plain": [
              "array([[   0,    0,    0, ...,   17,   21,  256],\n",
              "       [   0,    0,    0, ...,  293,  390, 2321],\n",
              "       [   0,    0,    0, ..., 2383,  516, 7174],\n",
              "       [   0,    0,    0, ...,  430,  471,  305],\n",
              "       [   0,    0,    0, ..., 2467,   99, 1243]], dtype=int32)"
            ]
          },
          "metadata": {},
          "execution_count": 51
        }
      ]
    },
    {
      "cell_type": "code",
      "source": [
        "model_gru.load_weights(model_gru_save_path)"
      ],
      "metadata": {
        "id": "0IkawkxhFB4Y"
      },
      "execution_count": 52,
      "outputs": []
    },
    {
      "cell_type": "code",
      "source": [
        "predict_x=model_gru.predict(x_final) \n",
        "classes_x=np.argmax(predict_x,axis=1)\n",
        "classes_x"
      ],
      "metadata": {
        "colab": {
          "base_uri": "https://localhost:8080/"
        },
        "id": "hzZ9VNaYFbsU",
        "outputId": "4efb4987-0d61-4331-ce2e-1fc8da4bcffa"
      },
      "execution_count": 53,
      "outputs": [
        {
          "output_type": "stream",
          "name": "stdout",
          "text": [
            "1067/1067 [==============================] - 15s 13ms/step\n"
          ]
        },
        {
          "output_type": "execute_result",
          "data": {
            "text/plain": [
              "array([0, 0, 4, ..., 0, 0, 0])"
            ]
          },
          "metadata": {},
          "execution_count": 53
        }
      ]
    },
    {
      "cell_type": "code",
      "source": [
        "sol = pd.DataFrame({'inds': test.index,\n",
        "                    'grades': classes_x})\n",
        "sol"
      ],
      "metadata": {
        "colab": {
          "base_uri": "https://localhost:8080/",
          "height": 424
        },
        "id": "eORTiZkHLE71",
        "outputId": "393d259e-11ff-49a2-f6a6-c5d6028f4ad8"
      },
      "execution_count": 54,
      "outputs": [
        {
          "output_type": "execute_result",
          "data": {
            "text/plain": [
              "        inds  grades\n",
              "0          0       0\n",
              "1          1       0\n",
              "2          2       4\n",
              "3          3       0\n",
              "4          4       0\n",
              "...      ...     ...\n",
              "34109  34109       0\n",
              "34110  34110       0\n",
              "34111  34111       0\n",
              "34112  34112       0\n",
              "34113  34113       0\n",
              "\n",
              "[34114 rows x 2 columns]"
            ],
            "text/html": [
              "\n",
              "  <div id=\"df-db2ced14-2dfa-4a05-ab00-d9f7c2b5b2f3\">\n",
              "    <div class=\"colab-df-container\">\n",
              "      <div>\n",
              "<style scoped>\n",
              "    .dataframe tbody tr th:only-of-type {\n",
              "        vertical-align: middle;\n",
              "    }\n",
              "\n",
              "    .dataframe tbody tr th {\n",
              "        vertical-align: top;\n",
              "    }\n",
              "\n",
              "    .dataframe thead th {\n",
              "        text-align: right;\n",
              "    }\n",
              "</style>\n",
              "<table border=\"1\" class=\"dataframe\">\n",
              "  <thead>\n",
              "    <tr style=\"text-align: right;\">\n",
              "      <th></th>\n",
              "      <th>inds</th>\n",
              "      <th>grades</th>\n",
              "    </tr>\n",
              "  </thead>\n",
              "  <tbody>\n",
              "    <tr>\n",
              "      <th>0</th>\n",
              "      <td>0</td>\n",
              "      <td>0</td>\n",
              "    </tr>\n",
              "    <tr>\n",
              "      <th>1</th>\n",
              "      <td>1</td>\n",
              "      <td>0</td>\n",
              "    </tr>\n",
              "    <tr>\n",
              "      <th>2</th>\n",
              "      <td>2</td>\n",
              "      <td>4</td>\n",
              "    </tr>\n",
              "    <tr>\n",
              "      <th>3</th>\n",
              "      <td>3</td>\n",
              "      <td>0</td>\n",
              "    </tr>\n",
              "    <tr>\n",
              "      <th>4</th>\n",
              "      <td>4</td>\n",
              "      <td>0</td>\n",
              "    </tr>\n",
              "    <tr>\n",
              "      <th>...</th>\n",
              "      <td>...</td>\n",
              "      <td>...</td>\n",
              "    </tr>\n",
              "    <tr>\n",
              "      <th>34109</th>\n",
              "      <td>34109</td>\n",
              "      <td>0</td>\n",
              "    </tr>\n",
              "    <tr>\n",
              "      <th>34110</th>\n",
              "      <td>34110</td>\n",
              "      <td>0</td>\n",
              "    </tr>\n",
              "    <tr>\n",
              "      <th>34111</th>\n",
              "      <td>34111</td>\n",
              "      <td>0</td>\n",
              "    </tr>\n",
              "    <tr>\n",
              "      <th>34112</th>\n",
              "      <td>34112</td>\n",
              "      <td>0</td>\n",
              "    </tr>\n",
              "    <tr>\n",
              "      <th>34113</th>\n",
              "      <td>34113</td>\n",
              "      <td>0</td>\n",
              "    </tr>\n",
              "  </tbody>\n",
              "</table>\n",
              "<p>34114 rows × 2 columns</p>\n",
              "</div>\n",
              "      <button class=\"colab-df-convert\" onclick=\"convertToInteractive('df-db2ced14-2dfa-4a05-ab00-d9f7c2b5b2f3')\"\n",
              "              title=\"Convert this dataframe to an interactive table.\"\n",
              "              style=\"display:none;\">\n",
              "        \n",
              "  <svg xmlns=\"http://www.w3.org/2000/svg\" height=\"24px\"viewBox=\"0 0 24 24\"\n",
              "       width=\"24px\">\n",
              "    <path d=\"M0 0h24v24H0V0z\" fill=\"none\"/>\n",
              "    <path d=\"M18.56 5.44l.94 2.06.94-2.06 2.06-.94-2.06-.94-.94-2.06-.94 2.06-2.06.94zm-11 1L8.5 8.5l.94-2.06 2.06-.94-2.06-.94L8.5 2.5l-.94 2.06-2.06.94zm10 10l.94 2.06.94-2.06 2.06-.94-2.06-.94-.94-2.06-.94 2.06-2.06.94z\"/><path d=\"M17.41 7.96l-1.37-1.37c-.4-.4-.92-.59-1.43-.59-.52 0-1.04.2-1.43.59L10.3 9.45l-7.72 7.72c-.78.78-.78 2.05 0 2.83L4 21.41c.39.39.9.59 1.41.59.51 0 1.02-.2 1.41-.59l7.78-7.78 2.81-2.81c.8-.78.8-2.07 0-2.86zM5.41 20L4 18.59l7.72-7.72 1.47 1.35L5.41 20z\"/>\n",
              "  </svg>\n",
              "      </button>\n",
              "      \n",
              "  <style>\n",
              "    .colab-df-container {\n",
              "      display:flex;\n",
              "      flex-wrap:wrap;\n",
              "      gap: 12px;\n",
              "    }\n",
              "\n",
              "    .colab-df-convert {\n",
              "      background-color: #E8F0FE;\n",
              "      border: none;\n",
              "      border-radius: 50%;\n",
              "      cursor: pointer;\n",
              "      display: none;\n",
              "      fill: #1967D2;\n",
              "      height: 32px;\n",
              "      padding: 0 0 0 0;\n",
              "      width: 32px;\n",
              "    }\n",
              "\n",
              "    .colab-df-convert:hover {\n",
              "      background-color: #E2EBFA;\n",
              "      box-shadow: 0px 1px 2px rgba(60, 64, 67, 0.3), 0px 1px 3px 1px rgba(60, 64, 67, 0.15);\n",
              "      fill: #174EA6;\n",
              "    }\n",
              "\n",
              "    [theme=dark] .colab-df-convert {\n",
              "      background-color: #3B4455;\n",
              "      fill: #D2E3FC;\n",
              "    }\n",
              "\n",
              "    [theme=dark] .colab-df-convert:hover {\n",
              "      background-color: #434B5C;\n",
              "      box-shadow: 0px 1px 3px 1px rgba(0, 0, 0, 0.15);\n",
              "      filter: drop-shadow(0px 1px 2px rgba(0, 0, 0, 0.3));\n",
              "      fill: #FFFFFF;\n",
              "    }\n",
              "  </style>\n",
              "\n",
              "      <script>\n",
              "        const buttonEl =\n",
              "          document.querySelector('#df-db2ced14-2dfa-4a05-ab00-d9f7c2b5b2f3 button.colab-df-convert');\n",
              "        buttonEl.style.display =\n",
              "          google.colab.kernel.accessAllowed ? 'block' : 'none';\n",
              "\n",
              "        async function convertToInteractive(key) {\n",
              "          const element = document.querySelector('#df-db2ced14-2dfa-4a05-ab00-d9f7c2b5b2f3');\n",
              "          const dataTable =\n",
              "            await google.colab.kernel.invokeFunction('convertToInteractive',\n",
              "                                                     [key], {});\n",
              "          if (!dataTable) return;\n",
              "\n",
              "          const docLinkHtml = 'Like what you see? Visit the ' +\n",
              "            '<a target=\"_blank\" href=https://colab.research.google.com/notebooks/data_table.ipynb>data table notebook</a>'\n",
              "            + ' to learn more about interactive tables.';\n",
              "          element.innerHTML = '';\n",
              "          dataTable['output_type'] = 'display_data';\n",
              "          await google.colab.output.renderOutput(dataTable, element);\n",
              "          const docLink = document.createElement('div');\n",
              "          docLink.innerHTML = docLinkHtml;\n",
              "          element.appendChild(docLink);\n",
              "        }\n",
              "      </script>\n",
              "    </div>\n",
              "  </div>\n",
              "  "
            ]
          },
          "metadata": {},
          "execution_count": 54
        }
      ]
    },
    {
      "cell_type": "code",
      "source": [
        "sol['grades'].value_counts()"
      ],
      "metadata": {
        "colab": {
          "base_uri": "https://localhost:8080/"
        },
        "id": "TYj-uGKSLOx0",
        "outputId": "b2a5e431-6493-4d78-e1f0-11451d0ae403"
      },
      "execution_count": 55,
      "outputs": [
        {
          "output_type": "execute_result",
          "data": {
            "text/plain": [
              "0    23310\n",
              "4     9980\n",
              "2      339\n",
              "1      306\n",
              "3      179\n",
              "Name: grades, dtype: int64"
            ]
          },
          "metadata": {},
          "execution_count": 55
        }
      ]
    },
    {
      "cell_type": "code",
      "source": [
        "sol['grades'] = sol['grades'].apply(lambda x: x+1)"
      ],
      "metadata": {
        "id": "q5fZnMRvLUQ9"
      },
      "execution_count": 56,
      "outputs": []
    },
    {
      "cell_type": "code",
      "source": [
        "sol"
      ],
      "metadata": {
        "colab": {
          "base_uri": "https://localhost:8080/",
          "height": 424
        },
        "id": "galfhs6lLUWs",
        "outputId": "c57eae3f-0d8b-4ca9-dc89-ee2a4ec6bdcf"
      },
      "execution_count": 57,
      "outputs": [
        {
          "output_type": "execute_result",
          "data": {
            "text/plain": [
              "        inds  grades\n",
              "0          0       1\n",
              "1          1       1\n",
              "2          2       5\n",
              "3          3       1\n",
              "4          4       1\n",
              "...      ...     ...\n",
              "34109  34109       1\n",
              "34110  34110       1\n",
              "34111  34111       1\n",
              "34112  34112       1\n",
              "34113  34113       1\n",
              "\n",
              "[34114 rows x 2 columns]"
            ],
            "text/html": [
              "\n",
              "  <div id=\"df-f83fc12e-c4d6-4156-a979-6de51345cda2\">\n",
              "    <div class=\"colab-df-container\">\n",
              "      <div>\n",
              "<style scoped>\n",
              "    .dataframe tbody tr th:only-of-type {\n",
              "        vertical-align: middle;\n",
              "    }\n",
              "\n",
              "    .dataframe tbody tr th {\n",
              "        vertical-align: top;\n",
              "    }\n",
              "\n",
              "    .dataframe thead th {\n",
              "        text-align: right;\n",
              "    }\n",
              "</style>\n",
              "<table border=\"1\" class=\"dataframe\">\n",
              "  <thead>\n",
              "    <tr style=\"text-align: right;\">\n",
              "      <th></th>\n",
              "      <th>inds</th>\n",
              "      <th>grades</th>\n",
              "    </tr>\n",
              "  </thead>\n",
              "  <tbody>\n",
              "    <tr>\n",
              "      <th>0</th>\n",
              "      <td>0</td>\n",
              "      <td>1</td>\n",
              "    </tr>\n",
              "    <tr>\n",
              "      <th>1</th>\n",
              "      <td>1</td>\n",
              "      <td>1</td>\n",
              "    </tr>\n",
              "    <tr>\n",
              "      <th>2</th>\n",
              "      <td>2</td>\n",
              "      <td>5</td>\n",
              "    </tr>\n",
              "    <tr>\n",
              "      <th>3</th>\n",
              "      <td>3</td>\n",
              "      <td>1</td>\n",
              "    </tr>\n",
              "    <tr>\n",
              "      <th>4</th>\n",
              "      <td>4</td>\n",
              "      <td>1</td>\n",
              "    </tr>\n",
              "    <tr>\n",
              "      <th>...</th>\n",
              "      <td>...</td>\n",
              "      <td>...</td>\n",
              "    </tr>\n",
              "    <tr>\n",
              "      <th>34109</th>\n",
              "      <td>34109</td>\n",
              "      <td>1</td>\n",
              "    </tr>\n",
              "    <tr>\n",
              "      <th>34110</th>\n",
              "      <td>34110</td>\n",
              "      <td>1</td>\n",
              "    </tr>\n",
              "    <tr>\n",
              "      <th>34111</th>\n",
              "      <td>34111</td>\n",
              "      <td>1</td>\n",
              "    </tr>\n",
              "    <tr>\n",
              "      <th>34112</th>\n",
              "      <td>34112</td>\n",
              "      <td>1</td>\n",
              "    </tr>\n",
              "    <tr>\n",
              "      <th>34113</th>\n",
              "      <td>34113</td>\n",
              "      <td>1</td>\n",
              "    </tr>\n",
              "  </tbody>\n",
              "</table>\n",
              "<p>34114 rows × 2 columns</p>\n",
              "</div>\n",
              "      <button class=\"colab-df-convert\" onclick=\"convertToInteractive('df-f83fc12e-c4d6-4156-a979-6de51345cda2')\"\n",
              "              title=\"Convert this dataframe to an interactive table.\"\n",
              "              style=\"display:none;\">\n",
              "        \n",
              "  <svg xmlns=\"http://www.w3.org/2000/svg\" height=\"24px\"viewBox=\"0 0 24 24\"\n",
              "       width=\"24px\">\n",
              "    <path d=\"M0 0h24v24H0V0z\" fill=\"none\"/>\n",
              "    <path d=\"M18.56 5.44l.94 2.06.94-2.06 2.06-.94-2.06-.94-.94-2.06-.94 2.06-2.06.94zm-11 1L8.5 8.5l.94-2.06 2.06-.94-2.06-.94L8.5 2.5l-.94 2.06-2.06.94zm10 10l.94 2.06.94-2.06 2.06-.94-2.06-.94-.94-2.06-.94 2.06-2.06.94z\"/><path d=\"M17.41 7.96l-1.37-1.37c-.4-.4-.92-.59-1.43-.59-.52 0-1.04.2-1.43.59L10.3 9.45l-7.72 7.72c-.78.78-.78 2.05 0 2.83L4 21.41c.39.39.9.59 1.41.59.51 0 1.02-.2 1.41-.59l7.78-7.78 2.81-2.81c.8-.78.8-2.07 0-2.86zM5.41 20L4 18.59l7.72-7.72 1.47 1.35L5.41 20z\"/>\n",
              "  </svg>\n",
              "      </button>\n",
              "      \n",
              "  <style>\n",
              "    .colab-df-container {\n",
              "      display:flex;\n",
              "      flex-wrap:wrap;\n",
              "      gap: 12px;\n",
              "    }\n",
              "\n",
              "    .colab-df-convert {\n",
              "      background-color: #E8F0FE;\n",
              "      border: none;\n",
              "      border-radius: 50%;\n",
              "      cursor: pointer;\n",
              "      display: none;\n",
              "      fill: #1967D2;\n",
              "      height: 32px;\n",
              "      padding: 0 0 0 0;\n",
              "      width: 32px;\n",
              "    }\n",
              "\n",
              "    .colab-df-convert:hover {\n",
              "      background-color: #E2EBFA;\n",
              "      box-shadow: 0px 1px 2px rgba(60, 64, 67, 0.3), 0px 1px 3px 1px rgba(60, 64, 67, 0.15);\n",
              "      fill: #174EA6;\n",
              "    }\n",
              "\n",
              "    [theme=dark] .colab-df-convert {\n",
              "      background-color: #3B4455;\n",
              "      fill: #D2E3FC;\n",
              "    }\n",
              "\n",
              "    [theme=dark] .colab-df-convert:hover {\n",
              "      background-color: #434B5C;\n",
              "      box-shadow: 0px 1px 3px 1px rgba(0, 0, 0, 0.15);\n",
              "      filter: drop-shadow(0px 1px 2px rgba(0, 0, 0, 0.3));\n",
              "      fill: #FFFFFF;\n",
              "    }\n",
              "  </style>\n",
              "\n",
              "      <script>\n",
              "        const buttonEl =\n",
              "          document.querySelector('#df-f83fc12e-c4d6-4156-a979-6de51345cda2 button.colab-df-convert');\n",
              "        buttonEl.style.display =\n",
              "          google.colab.kernel.accessAllowed ? 'block' : 'none';\n",
              "\n",
              "        async function convertToInteractive(key) {\n",
              "          const element = document.querySelector('#df-f83fc12e-c4d6-4156-a979-6de51345cda2');\n",
              "          const dataTable =\n",
              "            await google.colab.kernel.invokeFunction('convertToInteractive',\n",
              "                                                     [key], {});\n",
              "          if (!dataTable) return;\n",
              "\n",
              "          const docLinkHtml = 'Like what you see? Visit the ' +\n",
              "            '<a target=\"_blank\" href=https://colab.research.google.com/notebooks/data_table.ipynb>data table notebook</a>'\n",
              "            + ' to learn more about interactive tables.';\n",
              "          element.innerHTML = '';\n",
              "          dataTable['output_type'] = 'display_data';\n",
              "          await google.colab.output.renderOutput(dataTable, element);\n",
              "          const docLink = document.createElement('div');\n",
              "          docLink.innerHTML = docLinkHtml;\n",
              "          element.appendChild(docLink);\n",
              "        }\n",
              "      </script>\n",
              "    </div>\n",
              "  </div>\n",
              "  "
            ]
          },
          "metadata": {},
          "execution_count": 57
        }
      ]
    },
    {
      "cell_type": "code",
      "source": [
        "sol['grades'].value_counts()"
      ],
      "metadata": {
        "colab": {
          "base_uri": "https://localhost:8080/"
        },
        "id": "3fD5kPEsLew8",
        "outputId": "f86c9e36-2e63-49fd-c283-4f9a3e27a1e8"
      },
      "execution_count": 58,
      "outputs": [
        {
          "output_type": "execute_result",
          "data": {
            "text/plain": [
              "1    23310\n",
              "5     9980\n",
              "3      339\n",
              "2      306\n",
              "4      179\n",
              "Name: grades, dtype: int64"
            ]
          },
          "metadata": {},
          "execution_count": 58
        }
      ]
    },
    {
      "cell_type": "code",
      "source": [
        "sol.to_csv('submission.csv', index=False)"
      ],
      "metadata": {
        "id": "zZ6fz66NLn-j"
      },
      "execution_count": 59,
      "outputs": []
    }
  ]
}